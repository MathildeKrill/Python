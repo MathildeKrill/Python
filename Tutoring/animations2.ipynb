{
 "metadata": {
  "language_info": {
   "codemirror_mode": {
    "name": "ipython",
    "version": 3
   },
   "file_extension": ".py",
   "mimetype": "text/x-python",
   "name": "python",
   "nbconvert_exporter": "python",
   "pygments_lexer": "ipython3",
   "version": "3.8.1-final"
  },
  "orig_nbformat": 2,
  "kernelspec": {
   "name": "Python 3.8.1 64-bit ('3.8.1')",
   "display_name": "Python 3.8.1 64-bit ('3.8.1')",
   "metadata": {
    "interpreter": {
     "hash": "39d9957c0bdcc2df3d5b84add00b7d6c354fea32f7a76a6fcfdd0f906c9d2725"
    }
   }
  }
 },
 "nbformat": 4,
 "nbformat_minor": 2,
 "cells": [
  {
   "cell_type": "code",
   "execution_count": null,
   "metadata": {
    "tags": []
   },
   "outputs": [],
   "source": [
    "%matplotlib notebook\n",
    "import numpy as np\n",
    "import matplotlib.pyplot as plt\n",
    "import math\n",
    "from matplotlib import rc\n",
    "\n",
    "from matplotlib import animation, rc\n",
    "from IPython.display import HTML\n",
    "from tutorship_reusable import draw_squares, plotCubeAt, axisEqual3D\n",
    "\n",
    "rc('animation', html='jshtml')\n",
    "plt.rcParams.update({\n",
    "    \"font.size\": 10\n",
    "})\n",
    "\n",
    "min_gap = 0.1\n",
    "\n",
    "def animate_sin(i, ax, nb_frames):\n",
    "    ax.set_xlim(( 0, 2))\n",
    "    ax.set_ylim((-2, 2))\n",
    "    x = np.linspace(0, 2, 300)\n",
    "    y = np.sin(2 * np.pi * (x - 1. * i / nb_frames))\n",
    "    ax.clear()\n",
    "    ax.plot(x, y, lw=2)\n",
    "\n",
    "def animate_squares(i, ax, nb_frames, min_x, min_y, nb_x, nb_y, length, fill_in_colour, skip_x = []):\n",
    "    ax.clear()\n",
    "\n",
    "    max_x = math.ceil(min_x + nb_x * (length + min_gap * nb_frames))\n",
    "    max_y = math.ceil(min_y + nb_y * (length + min_gap * nb_frames))\n",
    "    ax.set_xlim((0, max_x))\n",
    "    ax.set_ylim((0, max_y))\n",
    "\n",
    "    plt.xticks(np.arange(0, max_x, 1.0))\n",
    "    plt.yticks(np.arange(0, max_y, 1.0))\n",
    "    draw_squares(ax, min_x=min_x, min_y=min_y, nb_x=nb_x, nb_y=nb_y, length=length, fill_in_colour=fill_in_colour, gap=(nb_frames - i - 1) * min_gap, skip_x = skip_x)\n",
    "\n",
    "def animate_cubes(i, ax, nb_frames, min_x, min_y, min_z, nb_x, nb_y, nb_z, length, fill_in_colour):\n",
    "    ax.clear()\n",
    "    max_x = math.ceil(min_x + nb_x * (length + min_gap * nb_frames))\n",
    "    max_y = math.ceil(min_y + nb_y * (length + min_gap * nb_frames))\n",
    "    max_z = math.ceil(min_z + nb_z * (length + min_gap * nb_frames))\n",
    "    ax.set_xlim((0, max_x))\n",
    "    ax.set_zlim((0, max_z))\n",
    "    ax.set_ylim((0, max_y))\n",
    "    plt.xticks(np.arange(0, max_x, 1.0))\n",
    "    plt.yticks(np.arange(0, max_y, 1.0))\n",
    "    plt.zticks(np.arange(0, max_z, 1.0))\n",
    "\n",
    "    gap = (nb_frames - i - 1) * min_gap\n",
    "    for n_x in range(nb_x):\n",
    "        for n_y in range(nb_y):\n",
    "            for n_z in range(nb_z):\n",
    "                plotCubeAt(pos=(min_x + n_x * (length + gap ), \n",
    "                                min_y + n_y * (length + gap), \n",
    "                                min_z + n_z * (length + gap)), size=(length, length, length), ax=ax, color=fill_in_colour)\n",
    "\n",
    "    axisEqual3D(ax)\n",
    "\n",
    "def run2():   \n",
    "    fig, ax = plt.subplots(figsize=(7, 7))\n",
    "    nb_frames = 10\n",
    "    anim = animation.FuncAnimation(fig, animate_squares, fargs=[ax, nb_frames, 2, 1, 9, 11, 1, (0.5, 0., 1.0), [0]],\n",
    "                               frames=nb_frames, interval=500)\n",
    "    return anim\n",
    "\n",
    "def run3():   \n",
    "    fig = plt.figure()\n",
    "    ax = fig.gca(projection='3d')\n",
    "    nb_frames = 10\n",
    "    anim = animation.FuncAnimation(fig, animate_cubes, fargs=[ax, nb_frames, 0, 0, 0, 9, 8, 7, 1, (0., 184/255., 230/255.)],\n",
    "                               frames=nb_frames, interval=500)\n",
    "    return anim\n",
    "\n",
    "anim = run3()\n",
    "anim\n",
    "\n",
    "# 14.5 - 3.5 = ?"
   ]
  },
  {
   "cell_type": "code",
   "execution_count": null,
   "metadata": {},
   "outputs": [],
   "source": [
    "%matplotlib inline\n",
    "from ipywidgets import interactive\n",
    "import matplotlib.pyplot as plt\n",
    "import numpy as np\n",
    "\n",
    "\n",
    "animate_squares(i, ax, nb_frames, min_x, min_y, nb_x, nb_y, length, fill_in_colour, skip_x = [])\n",
    "\n",
    "interactive_plot = interactive(animate_squares, i=(0, nb_frames - 1), b=(-3, 3, 0.5))\n",
    "output = interactive_plot.children[-1]\n",
    "output.layout.height = '550px'\n",
    "interactive_plot"
   ]
  }
 ]
}