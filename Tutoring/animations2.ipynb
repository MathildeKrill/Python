{
 "metadata": {
  "language_info": {
   "codemirror_mode": {
    "name": "ipython",
    "version": 3
   },
   "file_extension": ".py",
   "mimetype": "text/x-python",
   "name": "python",
   "nbconvert_exporter": "python",
   "pygments_lexer": "ipython3",
   "version": "3.8.1-final"
  },
  "orig_nbformat": 2,
  "kernelspec": {
   "name": "Python 3.8.1 64-bit ('3.8.1')",
   "display_name": "Python 3.8.1 64-bit ('3.8.1')",
   "metadata": {
    "interpreter": {
     "hash": "39d9957c0bdcc2df3d5b84add00b7d6c354fea32f7a76a6fcfdd0f906c9d2725"
    }
   }
  }
 },
 "nbformat": 4,
 "nbformat_minor": 2,
 "cells": [
  {
   "cell_type": "code",
   "execution_count": null,
   "metadata": {
    "tags": []
   },
   "outputs": [],
   "source": [
    "%matplotlib notebook\n",
    "import numpy as np\n",
    "import matplotlib.pyplot as plt\n",
    "from matplotlib import rc\n",
    "\n",
    "from matplotlib import animation, rc\n",
    "from IPython.display import HTML\n",
    "rc('animation', html='jshtml')\n",
    "\n",
    "def animate(i, ax, nb_frames):\n",
    "    x = np.linspace(0, 2, 300)\n",
    "    y = np.sin(2 * np.pi * (x - 1. * i / nb_frames))\n",
    "    ax.clear()\n",
    "    ax.plot(x, y, lw=2)\n",
    "\n",
    "def run():   \n",
    "    fig, ax = plt.subplots()\n",
    "    ax.set_xlim(( 0, 2))\n",
    "    ax.set_ylim((-2, 2))\n",
    "    nb_frames = 50\n",
    "    anim = animation.FuncAnimation(fig, animate, fargs=[ax, nb_frames],\n",
    "                               frames=nb_frames, interval=20)\n",
    "    return anim\n",
    "\n",
    "anim = run()\n",
    "anim"
   ]
  }
 ]
}