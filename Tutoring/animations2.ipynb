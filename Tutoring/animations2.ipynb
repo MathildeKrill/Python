{
 "metadata": {
  "language_info": {
   "codemirror_mode": {
    "name": "ipython",
    "version": 3
   },
   "file_extension": ".py",
   "mimetype": "text/x-python",
   "name": "python",
   "nbconvert_exporter": "python",
   "pygments_lexer": "ipython3",
   "version": "3.8.1-final"
  },
  "orig_nbformat": 2,
  "kernelspec": {
   "name": "Python 3.8.1 64-bit ('3.8.1')",
   "display_name": "Python 3.8.1 64-bit ('3.8.1')",
   "metadata": {
    "interpreter": {
     "hash": "39d9957c0bdcc2df3d5b84add00b7d6c354fea32f7a76a6fcfdd0f906c9d2725"
    }
   }
  }
 },
 "nbformat": 4,
 "nbformat_minor": 2,
 "cells": [
  {
   "cell_type": "code",
   "execution_count": null,
   "metadata": {
    "tags": []
   },
   "outputs": [],
   "source": [
    "%matplotlib notebook\n",
    "import numpy as np\n",
    "import matplotlib.pyplot as plt\n",
    "from matplotlib import rc\n",
    "\n",
    "from matplotlib import animation, rc\n",
    "from IPython.display import HTML\n",
    "rc('animation', html='jshtml')\n",
    "\n",
    "def start():\n",
    "    fig, ax = plt.subplots()\n",
    "    ax.set_xlim(( 0, 2))\n",
    "    ax.set_ylim((-2, 2))\n",
    "    line, = ax.plot([], [], lw=2)\n",
    "    return line, fig\n",
    "\n",
    "\n",
    "def init():\n",
    "    line.set_data([], [])\n",
    "    return (line,)\n",
    "\n",
    "def animate(i):\n",
    "    x = np.linspace(0, 2, 1000)\n",
    "    y = np.sin(2 * np.pi * (x - 0.01 * i))\n",
    "    line.set_data(x, y)\n",
    "    return (line,)\n",
    "    \n",
    "line, fig = start()\n",
    "anim = animation.FuncAnimation(fig, animate, init_func=init,\n",
    "                               frames=100, interval=20, \n",
    "                               blit=True)\n",
    "anim"
   ]
  },
  {
   "cell_type": "code",
   "execution_count": null,
   "metadata": {},
   "outputs": [],
   "source": []
  }
 ]
}