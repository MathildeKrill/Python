{
 "metadata": {
  "language_info": {
   "codemirror_mode": {
    "name": "ipython",
    "version": 3
   },
   "file_extension": ".py",
   "mimetype": "text/x-python",
   "name": "python",
   "nbconvert_exporter": "python",
   "pygments_lexer": "ipython3",
   "version": "3.8.1-final"
  },
  "orig_nbformat": 2,
  "kernelspec": {
   "name": "Python 3.8.1 64-bit ('3.8.1')",
   "display_name": "Python 3.8.1 64-bit ('3.8.1')",
   "metadata": {
    "interpreter": {
     "hash": "39d9957c0bdcc2df3d5b84add00b7d6c354fea32f7a76a6fcfdd0f906c9d2725"
    }
   }
  }
 },
 "nbformat": 4,
 "nbformat_minor": 2,
 "cells": [
  {
   "cell_type": "code",
   "execution_count": null,
   "metadata": {
    "tags": []
   },
   "outputs": [],
   "source": [
    "\n",
    "import numpy as np\n",
    "import matplotlib.pyplot as plt\n",
    "import math\n",
    "\n",
    "from yu_plot_basic_shapes import draw_squares, plotCubeAt\n",
    "from yu_plot_axes import nice_axes, run_animation\n",
    "%matplotlib notebook\n",
    "\n",
    "min_gap = 0.1\n",
    "\n",
    "def animate_sin(i, ax, nb_frames):\n",
    "    ax.set_xlim(( 0, 2))\n",
    "    ax.set_ylim((-2, 2))\n",
    "    x = np.linspace(0, 2, 300)\n",
    "    y = np.sin(2 * np.pi * (x - 1. * i / nb_frames))\n",
    "    ax.clear()\n",
    "    ax.plot(x, y, lw=2)\n",
    "\n",
    "def animate_squares(i, ax, nb_frames, min_x, min_y, nb_x, nb_y, length, fill_in_colour, skip_x = []):\n",
    "    ax.clear()\n",
    "    draw_squares(ax, min_x=min_x, min_y=min_y, nb_x=nb_x, nb_y=nb_y, length=length, \n",
    "                     fill_in_colour=fill_in_colour, gap=(nb_frames - i - 1) * min_gap, skip_x = skip_x)\n",
    "    nice_axes(min_max_values_tick_freq={'x' : [0, math.ceil(min_x + nb_x * (length + min_gap * nb_frames))],\n",
    "                                        'y' : [0, math.ceil(min_y + nb_y * (length + min_gap * nb_frames))]}, \n",
    "              ax=ax)\n",
    "\n",
    "def animate_cubes(i, ax, nb_frames, min_x, min_y, min_z, nb_x, nb_y, nb_z, length, fill_in_colour):\n",
    "    ax.clear()\n",
    "    gap = (nb_frames - i - 1) * min_gap\n",
    "    for n_x in range(nb_x):\n",
    "        for n_y in range(nb_y):\n",
    "            for n_z in range(nb_z):\n",
    "                plotCubeAt(pos=(min_x + n_x * (length + gap ), \n",
    "                                min_y + n_y * (length + gap), \n",
    "                                min_z + n_z * (length + gap)), size=(length, length, length), ax=ax, color=fill_in_colour)\n",
    "\n",
    "    nice_axes(min_max_values_tick_freq={'x' : [0, math.ceil(min_x + nb_x * (length + min_gap * nb_frames))],\n",
    "                                        'y' : [0, math.ceil(min_y + nb_y * (length + min_gap * nb_frames))],\n",
    "                                        'z' : [0, math.ceil(min_z + nb_z * (length + min_gap * nb_frames))]}, \n",
    "              ax=ax)\n",
    "\n",
    "# 14.5 - 3.5 = ?"
   ]
  },
  {
   "cell_type": "code",
   "execution_count": null,
   "metadata": {},
   "outputs": [],
   "source": [
    "anim = run_animation(projection='rectilinear', figsize=(5, 7), nb_frames=10, \n",
    "                  func_name=animate_squares, fargs=[2, 1, 9, 11, 1, (0.5, 0., 1.0), [0]], interval=500)\n",
    "anim"
   ]
  },
  {
   "cell_type": "code",
   "execution_count": null,
   "metadata": {
    "tags": []
   },
   "outputs": [],
   "source": [
    "anim = run_animation(projection='3d', figsize=(7, 7), nb_frames=10, \n",
    "                  func_name=animate_cubes, fargs=[0, 0, 0, 9, 8, 7, 1, (0., 184/255., 230/255.)], interval=500)\n",
    "anim"
   ]
  },
  {
   "cell_type": "code",
   "execution_count": null,
   "metadata": {},
   "outputs": [],
   "source": []
  }
 ]
}