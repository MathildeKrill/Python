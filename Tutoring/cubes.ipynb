{
 "metadata": {
  "language_info": {
   "codemirror_mode": {
    "name": "ipython",
    "version": 3
   },
   "file_extension": ".py",
   "mimetype": "text/x-python",
   "name": "python",
   "nbconvert_exporter": "python",
   "pygments_lexer": "ipython3",
   "version": "3.8.1-final"
  },
  "orig_nbformat": 2,
  "kernelspec": {
   "name": "Python 3.8.1 64-bit ('3.8.1')",
   "display_name": "Python 3.8.1 64-bit ('3.8.1')",
   "metadata": {
    "interpreter": {
     "hash": "39d9957c0bdcc2df3d5b84add00b7d6c354fea32f7a76a6fcfdd0f906c9d2725"
    }
   }
  }
 },
 "nbformat": 4,
 "nbformat_minor": 2,
 "cells": [
  {
   "cell_type": "code",
   "execution_count": null,
   "metadata": {},
   "outputs": [],
   "source": [
    "import numpy as np\n",
    "import matplotlib.pyplot as plt\n",
    "from tutorship_reusable import plotCubeAt, axisEqual3D\n"
   ]
  },
  {
   "cell_type": "code",
   "execution_count": null,
   "metadata": {},
   "outputs": [],
   "source": [
    "L=5\n",
    "\n",
    "fig = plt.figure()\n",
    "ax = fig.gca(projection='3d')\n",
    "\n",
    "for i in range(L):\n",
    "    plotCubeAt(pos=(i, 0, 0), size=(1,1,1), ax=ax, color=(1.0 - i * 0.05, 0.0, 0.0))\n",
    "    plotCubeAt(pos=(i, 1, 0), size=(1,1,1), ax=ax, color=(1.0 - i * 0.1, 0.0, 0.0))\n",
    "\n",
    "axisEqual3D(ax)\n",
    "\n",
    "plt.show()"
   ]
  },
  {
   "cell_type": "code",
   "execution_count": null,
   "metadata": {},
   "outputs": [],
   "source": []
  }
 ]
}