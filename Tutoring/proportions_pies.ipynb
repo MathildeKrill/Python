{
 "metadata": {
  "language_info": {
   "codemirror_mode": {
    "name": "ipython",
    "version": 3
   },
   "file_extension": ".py",
   "mimetype": "text/x-python",
   "name": "python",
   "nbconvert_exporter": "python",
   "pygments_lexer": "ipython3",
   "version": "3.8.1-final"
  },
  "orig_nbformat": 2,
  "kernelspec": {
   "name": "Python 3.8.1 64-bit ('3.8.1')",
   "display_name": "Python 3.8.1 64-bit ('3.8.1')",
   "metadata": {
    "interpreter": {
     "hash": "39d9957c0bdcc2df3d5b84add00b7d6c354fea32f7a76a6fcfdd0f906c9d2725"
    }
   }
  }
 },
 "nbformat": 4,
 "nbformat_minor": 2,
 "cells": [
  {
   "cell_type": "code",
   "execution_count": null,
   "metadata": {},
   "outputs": [],
   "source": [
    "import matplotlib.pyplot as plt\n",
    "import numpy as np\n",
    "from tutorship_reusable import plt_envelope"
   ]
  },
  {
   "cell_type": "code",
   "execution_count": null,
   "metadata": {},
   "outputs": [],
   "source": [
    "assert 31 % 10 == 1, \"We've got a problem\"\n",
    "assert 32 % 10 == 1, \"We've got a problem\"\n",
    "assert 46 % 7 == 1, \"We've got a problem\"\n",
    "assert 48 % 7 == 1, \"We've got a problem\""
   ]
  },
  {
   "cell_type": "code",
   "execution_count": null,
   "metadata": {},
   "outputs": [],
   "source": [
    "def find_common_denominator(bigger_number, smaller_number):\n",
    "    if bigger_number < smaller_number:       \n",
    "        raise Exception(\"Sorry, the bigger_number \", bigger_number, \" is smaller than the smaller number\" , smaller_number)\n",
    "    residual = bigger_number % smaller_number\n",
    "    if residual == 0:\n",
    "        return smaller_number\n",
    "    else:\n",
    "        return find_common_denominator(bigger_number = smaller_number, smaller_number = residual)\n",
    "\n",
    "assert find_common_denominator(bigger_number=20, smaller_number=10) == 10, \"We've got a problem\"\n",
    "assert find_common_denominator(bigger_number=21, smaller_number=10) == 1, \"We've got a problem\"\n",
    "assert find_common_denominator(bigger_number=25, smaller_number=10) == 1, \"We've got a problem\""
   ]
  },
  {
   "cell_type": "code",
   "execution_count": null,
   "metadata": {},
   "outputs": [],
   "source": [
    "def simplify_the_ratio(numerator, denominator):\n",
    "    if numerator > denominator:\n",
    "        common_denominator = find_common_denominator(numerator, denominator)\n",
    "    else:\n",
    "        common_denominator = find_common_denominator(denominator, numerator)\n",
    "    simplified_numerator = int(numerator/common_denominator)\n",
    "    simplified_denominator = int(denominator/common_denominator)\n",
    "    return simplified_numerator, simplified_denominator\n",
    "\n",
    "assert simplify_the_ratio(numerator=10, denominator=20) == (1, 2), \"We've got a problem\"\n",
    "assert simplify_the_ratio(numerator=10, denominator=21) == (10, 21), \"We've got a problem\"\n",
    "assert simplify_the_ratio(numerator=10, denominator=22) == (10, 22), \"We've got a problem\""
   ]
  },
  {
   "cell_type": "code",
   "execution_count": null,
   "metadata": {},
   "outputs": [],
   "source": [
    "def ratio_to_string(numerator, denominator):\n",
    "    return str(numerator) + \"/\" + str(denominator)\n",
    "    \n",
    "# Pie chart, where the slices will be ordered and plotted counter-clockwise:\n",
    "def make_pie_chart(ax, sizes, labels):\n",
    "    _, ax1 = plt.subplots()\n",
    "    ax1.pie(sizes, labels=labels, startangle=90, autopct='%1.1f%%')\n",
    "    ax1.axis('equal')  # Equal aspect ratio ensures that pie is drawn as a circle\n",
    "\n",
    "def make_pie_chart_quiz(sizes, labels, title):\n",
    "    total = np.sum(sizes)\n",
    "    result = [['Total', 'OUR PIE CHART', total]]\n",
    "    result.sort(key=lambda x:str(x[1]))\n",
    "    for size, label in list(zip(sizes, labels)):\n",
    "        result.append(['Quantity', label, size])\n",
    "\n",
    "        result.append(['Initial fraction', label, str(size) + \"/\" + str(total) + ' = ' + str(size/total)])\n",
    "\n",
    "        simplified_numerator, simplified_denominator = simplify_the_ratio(numerator = size, denominator = total)\n",
    "        result.append(['Simplified fraction', label, str(simplified_numerator) + \"/\" + str(simplified_denominator)])\n",
    "\n",
    "        result.append(['Slice', label, str(size / total * 100) + '%'])\n",
    "\n",
    "    result.sort(key=lambda x:str(x[1]))\n",
    "\n",
    "    for output_type, label, number in result:\n",
    "        print(output_type, \" of \", label, \" is \", number)\n",
    "\n",
    "    plt_envelope(func_to_call = make_pie_chart, sizes = sizes, labels = labels,\n",
    "                 save_file = True, add_grid = False, \n",
    "                 figsize = (4, 3), dpi = 100,\n",
    "                 solution_object = None, title_addon = title)\n",
    "\n",
    "    return result"
   ]
  },
  {
   "cell_type": "code",
   "execution_count": null,
   "metadata": {
    "tags": []
   },
   "outputs": [],
   "source": [
    "def how_many_cards_do_I_get():\n",
    "\n",
    "    # epic cards example - inputs\n",
    "    #print('How many epic cards do I get?')\n",
    "    number_of_guaranteed_cards = 9\n",
    "    chance_of_getting_a_extra_card = 40\n",
    "\n",
    "    # how many extra cards do I get?\n",
    "    random_number = np.random.uniform(0, 100)\n",
    "    #print(random_number)\n",
    "    if (random_number <= chance_of_getting_a_extra_card):\n",
    "        number_of_extra_cards = 1\n",
    "    else:\n",
    "        number_of_extra_cards = 0\n",
    "\n",
    "    total_number_of_cards = number_of_guaranteed_cards + number_of_extra_cards\n",
    "    return total_number_of_cards\n",
    "\n",
    "print(how_many_cards_do_I_get())"
   ]
  },
  {
   "cell_type": "code",
   "execution_count": null,
   "metadata": {
    "tags": []
   },
   "outputs": [],
   "source": [
    "inputs = {9 : 0, \n",
    "          10 : 0}\n",
    "\n",
    "for i in range(123):\n",
    "    total_number_of_cards = how_many_cards_do_I_get()\n",
    "    inputs[total_number_of_cards] += 1\n",
    "\n",
    "make_pie_chart_quiz(sizes = np.array(list(inputs.values())), \n",
    "                        labels = list(inputs.keys()),\n",
    "                        title=\"How many epic cards do I get?\")"
   ]
  }
 ]
}