{
 "metadata": {
  "language_info": {
   "codemirror_mode": {
    "name": "ipython",
    "version": 3
   },
   "file_extension": ".py",
   "mimetype": "text/x-python",
   "name": "python",
   "nbconvert_exporter": "python",
   "pygments_lexer": "ipython3",
   "version": "3.8.1-final"
  },
  "orig_nbformat": 2,
  "kernelspec": {
   "name": "Python 3.8.1 64-bit ('3.8.1')",
   "display_name": "Python 3.8.1 64-bit ('3.8.1')",
   "metadata": {
    "interpreter": {
     "hash": "39d9957c0bdcc2df3d5b84add00b7d6c354fea32f7a76a6fcfdd0f906c9d2725"
    }
   }
  }
 },
 "nbformat": 4,
 "nbformat_minor": 2,
 "cells": [
  {
   "cell_type": "code",
   "execution_count": null,
   "metadata": {},
   "outputs": [],
   "source": [
    "import matplotlib.pyplot as plt\n",
    "import numpy as np\n",
    "from tutorship_reusable import plt_envelope\n",
    "\n",
    "FIGSIZE = (5, 5)\n",
    "DPI = 100 #300\n",
    "\n",
    "plt.rcParams.update({\n",
    "    \"font.size\": 10\n",
    "})\n",
    "\n",
    "def fraction_to_string(numerator, denominator):\n",
    "    return str(numerator) + \"/\" + str(denominator)\n",
    "\n",
    "def empty_str(data):\n",
    "    return \"\" "
   ]
  },
  {
   "source": [
    "# Pie chart, where the slices will be ordered and plotted counter-clockwise:\n",
    "def make_pie_chart(ax, sizes, labels, startangle, autopct='%1.1f%%'):\n",
    "    ax.pie(sizes, labels=labels, startangle=startangle, counterclock=False, autopct=autopct)\n",
    "    ax.axis('equal')  # Equal aspect ratio ensures that pie is drawn as a circle\n",
    "\n",
    "extra_card_start_angle = np.random.randint(360)\n",
    "_ = plt_envelope(func_to_call = make_pie_chart, sizes = [40, 60], labels = [\"1 extra card\", \"0 extra cards\"], \n",
    "                 startangle = extra_card_start_angle,\n",
    "                 figsize = FIGSIZE, dpi = DPI, title_addon = \"Extra Card Pie\")\n",
    "\n",
    "# HOW MUCH IS 40% of 360 degrees?"
   ],
   "cell_type": "code",
   "metadata": {},
   "execution_count": null,
   "outputs": []
  },
  {
   "cell_type": "code",
   "execution_count": null,
   "metadata": {
    "tags": []
   },
   "outputs": [],
   "source": [
    "# name any number between 0 and 359\n",
    "Kians_guess_angle = 0\n",
    "\n",
    "# which angles are the winning angles?\n",
    "extra_card_start_angle = np.random.randint(360) # a RANDOM angle\n",
    "extra_card_end_angle = int(extra_card_start_angle) ### EDIT !!! + ???)\n",
    "message = \"\\nAngles at which you get extra cards are from \" + str(extra_card_start_angle) + \" to \"  + str(extra_card_end_angle)\n",
    "message += \"\\nKian's guess is \" + str(Kians_guess_angle) + \" or \" + str(Kians_guess_angle + 360)\n",
    "\n",
    "# does Kian get a card this time?\n",
    "if (extra_card_start_angle > Kians_guess_angle):\n",
    "    Kians_guess_angle += 360\n",
    "if (extra_card_start_angle <= Kians_guess_angle) and (Kians_guess_angle < extra_card_end_angle):\n",
    "    nb_extra_cards = 1\n",
    "else:\n",
    "    nb_extra_cards = 0\n",
    "message += \"\\nThis time Kian gets \" + str(nb_extra_cards) + \" extra card(s)!\"\n",
    "\n",
    "_ = plt_envelope(func_to_call = make_pie_chart, startangle = extra_card_start_angle,\n",
    "                 sizes = [40, 60], labels = [\"1 extra card\", \"0 extra cards\"], \n",
    "                 figsize = FIGSIZE, dpi = DPI, title_addon = \"Extra Card Pie\" + message)\n"
   ]
  },
  {
   "source": [
    "# REVIEW DIVISION OF INTEGER NUMBERS WITH A RESIDUAL\n",
    "assert 31 % 10 == 1, \"We've got a problem\"\n",
    "#assert 32 % 10 == 1, \"We've got a problem\"\n",
    "#assert 46 % 7 == 1, \"We've got a problem\"\n",
    "#assert 48 % 7 == 1, \"We've got a problem\""
   ],
   "cell_type": "code",
   "metadata": {},
   "execution_count": null,
   "outputs": []
  },
  {
   "cell_type": "code",
   "execution_count": null,
   "metadata": {},
   "outputs": [],
   "source": [
    "def find_common_denominator(bigger_number, smaller_number):\n",
    "    if bigger_number < smaller_number:       \n",
    "        raise Exception(\"Sorry, the bigger_number \", bigger_number, \" is smaller than the smaller number\" , smaller_number)\n",
    "    residual = bigger_number % smaller_number # the residual!\n",
    "    if residual == 0:\n",
    "        return smaller_number\n",
    "    else:\n",
    "        return find_common_denominator(bigger_number = smaller_number, smaller_number = residual)\n",
    "\n",
    "assert find_common_denominator(bigger_number=20, smaller_number=10) == 10, \"We've got a problem\"\n",
    "assert find_common_denominator(bigger_number=21, smaller_number=10) == 1, \"We've got a problem\"\n",
    "#assert find_common_denominator(bigger_number=25, smaller_number=10) == 1, \"We've got a problem\"\n",
    "#assert find_common_denominator(bigger_number=99, smaller_number=39) == 1, \"We've got a problem\""
   ]
  },
  {
   "cell_type": "code",
   "execution_count": null,
   "metadata": {},
   "outputs": [],
   "source": [
    "def simplify_the_ratio(numerator, denominator):\n",
    "    if numerator > denominator:\n",
    "        common_denominator = find_common_denominator(numerator, denominator)\n",
    "    else:\n",
    "        common_denominator = find_common_denominator(denominator, numerator)\n",
    "    simplified_numerator = int(numerator/common_denominator)\n",
    "    simplified_denominator = int(denominator/common_denominator)\n",
    "    return simplified_numerator, simplified_denominator\n",
    "\n",
    "assert simplify_the_ratio(numerator=10, denominator=20) == (1, 2), \"We've got a problem\"\n",
    "assert simplify_the_ratio(numerator=10, denominator=21) == (10, 21), \"We've got a problem\"\n",
    "#assert simplify_the_ratio(numerator=10, denominator=22) == (10, 22), \"We've got a problem\"\n",
    "#assert simplify_the_ratio(bigger_number=99, smaller_number=21) == (99, 21), \"We've got a problem\"\n",
    "#assert simplify_the_ratio(bigger_number=21, smaller_number=99) == (99, 21), \"We've got a problem\""
   ]
  },
  {
   "cell_type": "code",
   "execution_count": null,
   "metadata": {},
   "outputs": [],
   "source": [
    "def make_pie_chart_quiz(sizes, labels, title, show_solution):\n",
    "    total = np.sum(sizes)\n",
    "    title += '\\nTotal number of runs is ' + str(total)\n",
    "    solutions = []\n",
    "    for size, label in list(zip(sizes, labels)):\n",
    "        label_str = str(label)\n",
    "        title += '\\nQuantity of ' + label_str + \" runs is \" + str(size)\n",
    "        simplified_numerator, simplified_denominator = simplify_the_ratio(numerator = size, denominator = total)\n",
    "        solutions += [[\"Initial ratio of \" + label_str, fraction_to_string(size, total)],\n",
    "                      ['Simplified ratio of '+ label_str, fraction_to_string(simplified_numerator, simplified_denominator)],\n",
    "                      ['Percentage of '+ label_str, size / total * 100, '%']]\n",
    "\n",
    "    solution_object = { 'show_solutions' : show_solution,\n",
    "                        'solutions' : solutions}\n",
    "\n",
    "    if show_solution:\n",
    "        autopct='%1.2f%%'\n",
    "        figsize = (4, 6)\n",
    "    else:\n",
    "        autopct=empty_str\n",
    "        figsize = FIGSIZE\n",
    "    \n",
    "    _ = plt_envelope(func_to_call = make_pie_chart, sizes = sizes, labels = labels, startangle = 0,\n",
    "                 save_file = True, autopct=autopct, add_grid = False, \n",
    "                 figsize = figsize, dpi = DPI, tolerance = 0.01,\n",
    "                 solution_object = solution_object, title_addon = title)"
   ]
  },
  {
   "cell_type": "code",
   "execution_count": null,
   "metadata": {
    "tags": []
   },
   "outputs": [],
   "source": [
    "def how_many_cards_do_I_get():\n",
    "\n",
    "    # epic cards example - inputs\n",
    "    #print('How many epic cards do I get?')\n",
    "    number_of_guaranteed_cards = 9\n",
    "    chance_of_getting_a_extra_card = 40\n",
    "\n",
    "    # how many extra cards do I get?\n",
    "    random_number = np.random.uniform(0, 100)\n",
    "    #print(random_number)\n",
    "    if (random_number <= chance_of_getting_a_extra_card):\n",
    "        number_of_extra_cards = 1\n",
    "    else:\n",
    "        number_of_extra_cards = 0\n",
    "\n",
    "    total_number_of_cards = number_of_guaranteed_cards + number_of_extra_cards\n",
    "    return total_number_of_cards\n",
    "\n",
    "print(how_many_cards_do_I_get())"
   ]
  },
  {
   "cell_type": "code",
   "execution_count": null,
   "metadata": {
    "tags": []
   },
   "outputs": [],
   "source": [
    "# number_of_guaranteed_cards = 9\n",
    "# max_number_of_extra_cards = 1\n",
    "inputs = {9 : 0, \n",
    "          10 : 0}\n",
    "\n",
    "for i in range(100):\n",
    "    total_number_of_cards = how_many_cards_do_I_get()\n",
    "    inputs[total_number_of_cards] += 1\n",
    "\n",
    "make_pie_chart_quiz(sizes = np.array(list(inputs.values())), \n",
    "                        labels = list(inputs.keys()),\n",
    "                        title=\"How many epic cards do I get?\",\n",
    "                        show_solution=True)"
   ]
  },
  {
   "cell_type": "code",
   "execution_count": null,
   "metadata": {},
   "outputs": [],
   "source": [
    "# clash royal championship trip cost: airplane tickets £300, hotel (day) £70, 3 day trip "
   ]
  }
 ]
}