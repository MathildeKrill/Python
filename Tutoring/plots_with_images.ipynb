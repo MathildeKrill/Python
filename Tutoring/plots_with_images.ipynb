{
 "metadata": {
  "language_info": {
   "codemirror_mode": {
    "name": "ipython",
    "version": 3
   },
   "file_extension": ".py",
   "mimetype": "text/x-python",
   "name": "python",
   "nbconvert_exporter": "python",
   "pygments_lexer": "ipython3",
   "version": "3.8.1-final"
  },
  "orig_nbformat": 2,
  "kernelspec": {
   "name": "Python 3.8.1 64-bit ('3.8.1')",
   "display_name": "Python 3.8.1 64-bit ('3.8.1')",
   "metadata": {
    "interpreter": {
     "hash": "39d9957c0bdcc2df3d5b84add00b7d6c354fea32f7a76a6fcfdd0f906c9d2725"
    }
   }
  }
 },
 "nbformat": 4,
 "nbformat_minor": 2,
 "cells": [
  {
   "cell_type": "code",
   "execution_count": null,
   "metadata": {
    "tags": []
   },
   "outputs": [],
   "source": [
    "import numpy as np\n",
    "import matplotlib.cbook as cbook\n",
    "import matplotlib.image as image\n",
    "import matplotlib.pyplot as plt\n",
    "import cv2\n",
    "import os\n",
    "\n",
    "def scale_image(filename_with_path, scaling_factor=1, mirror=False):\n",
    "    with cbook.get_sample_data(filename_with_path) as file:\n",
    "        original_image = image.imread(file)\n",
    "    new_shape = (int(original_image.shape[1] / scaling_factor), \n",
    "                 int(original_image.shape[0] / scaling_factor))\n",
    "    resized_image = cv2.resize(original_image, dsize=new_shape)\n",
    "    if mirror:\n",
    "        resized_image = resized_image[:,::-1,:]\n",
    "    return resized_image\n",
    "\n",
    "def show_image(ax, filename_with_path, origin, scaling_factor=1, mirror=False):\n",
    "    with cbook.get_sample_data(filename_with_path) as file:\n",
    "        _image = image.imread(file)\n",
    "    if mirror:\n",
    "        _image = _image[:,::-1,:]\n",
    "    ax.imshow(_image, extent=(origin[0], origin[0] + _image.shape[0]*scaling_factor, origin[1], origin[1] + _image.shape[1]*scaling_factor))        \n",
    "\n",
    "filename_with_path_blue = os.path.expanduser('~/Documents/Python/Tutoring/car_blue.png')\n",
    "filename_with_path_red = os.path.expanduser('~/Documents/Python/Tutoring/car_red.png')\n",
    "\n",
    "fig, ax = plt.subplots()\n",
    "\n",
    "ax.plot(np.sin(10 * np.linspace(0, 1)), '-o', ms=20, alpha=0.7, mfc='white')\n",
    "ax.grid()\n",
    "show_image(ax, filename_with_path_blue, (10, 250), scaling_factor=0.8, mirror=True)\n",
    "show_image(ax, filename_with_path_red, (10, 230))\n",
    "\n",
    "\n",
    "plt.show()"
   ]
  },
  {
   "cell_type": "code",
   "execution_count": null,
   "metadata": {},
   "outputs": [],
   "source": []
  }
 ]
}