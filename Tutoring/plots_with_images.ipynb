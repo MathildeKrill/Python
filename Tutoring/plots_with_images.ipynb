{
 "metadata": {
  "language_info": {
   "codemirror_mode": {
    "name": "ipython",
    "version": 3
   },
   "file_extension": ".py",
   "mimetype": "text/x-python",
   "name": "python",
   "nbconvert_exporter": "python",
   "pygments_lexer": "ipython3",
   "version": "3.8.1-final"
  },
  "orig_nbformat": 2,
  "kernelspec": {
   "name": "Python 3.8.1 64-bit ('3.8.1')",
   "display_name": "Python 3.8.1 64-bit ('3.8.1')",
   "metadata": {
    "interpreter": {
     "hash": "39d9957c0bdcc2df3d5b84add00b7d6c354fea32f7a76a6fcfdd0f906c9d2725"
    }
   }
  }
 },
 "nbformat": 4,
 "nbformat_minor": 2,
 "cells": [
  {
   "cell_type": "code",
   "execution_count": null,
   "metadata": {
    "tags": []
   },
   "outputs": [],
   "source": [
    "import numpy as np\n",
    "import matplotlib.cbook as cbook\n",
    "import matplotlib.image as image\n",
    "import matplotlib.pyplot as plt\n",
    "import cv2\n",
    "import os\n",
    "from yu_plot_axes import run_animation\n",
    "\n",
    "def scale_image(filename_with_path, scaling_factor=1, mirror=False):\n",
    "    with cbook.get_sample_data(filename_with_path) as file:\n",
    "        original_image = image.imread(file)\n",
    "    new_shape = (int(original_image.shape[1] / scaling_factor), \n",
    "                 int(original_image.shape[0] / scaling_factor))\n",
    "    resized_image = cv2.resize(original_image, dsize=new_shape)\n",
    "    if mirror:\n",
    "        resized_image = resized_image[:,::-1,:]\n",
    "    return resized_image\n",
    "\n",
    "def prepare_image(filename_with_path, mirror=False):\n",
    "    if filename_with_path.startswith('~'):\n",
    "        filename_with_path = os.path.expanduser(filename_with_path)\n",
    "    with cbook.get_sample_data(filename_with_path) as file:\n",
    "        prepared_image = image.imread(file)\n",
    "    if mirror:\n",
    "        prepared_image = prepared_image[:,::-1,:]\n",
    "    return prepared_image\n",
    "\n",
    "def show_image(ax, prepared_image, origin, scaling_factor=1, where_position=None):\n",
    "    extent=[origin[0], origin[0] + prepared_image.shape[0]*scaling_factor, \n",
    "            origin[1], origin[1] + prepared_image.shape[1]*scaling_factor]\n",
    "    if 'R' in where_position:\n",
    "        extent[0] -= prepared_image.shape[0]*scaling_factor\n",
    "        extent[1] -= prepared_image.shape[0]*scaling_factor\n",
    "    ax.imshow(prepared_image, extent=extent)        \n",
    "\n",
    "def val_or_func_to_val(val_or_func, arg):\n",
    "    if isinstance(val_or_func, int) or isinstance(val_or_func, float):\n",
    "        val = val_or_func\n",
    "    else:\n",
    "        if isinstance(val_or_func, tuple):\n",
    "            val = val_or_func[0] * arg + val_or_func[1]\n",
    "        else:    \n",
    "            val = val_or_func(arg)\n",
    "    return val\n",
    "\n",
    "def animate_images(i, ax, nb_frames, images_xs_ys, title_func):\n",
    "    ax.clear()\n",
    "    for spine_id in ['right', 'top', 'left']:\n",
    "        ax.spines[spine_id].set_visible(False)\n",
    "    ax.set_yticks([], [])\n",
    "    ax.set_xlim(-50, 570)\n",
    "    ax.set_ylim(0, 80)\n",
    "\n",
    "    positions = []\n",
    "    for img, x, y, scaling, where_position in images_xs_ys_scalings:\n",
    "        x_value = val_or_func_to_val(val_or_func=x, arg=i)\n",
    "        y_value = val_or_func_to_val(val_or_func=y, arg=i)\n",
    "        positions.append(x_value)\n",
    "        show_image(ax, img, (x_value, y_value), scaling, where_position)\n",
    "    \n",
    "    plot_title = title_func(positions)\n",
    "    ax.set_title(plot_title)\n"
   ]
  },
  {
   "cell_type": "code",
   "execution_count": null,
   "metadata": {},
   "outputs": [],
   "source": [
    "car_blue = prepare_image('~/Documents/Python/Tutoring/car_blue.png')\n",
    "car_red = prepare_image('~/Documents/Python/Tutoring/car_red.png')\n",
    "\n",
    "def show_distance(xs):\n",
    "    return (\"The distance between the cars is \" + str(abs(xs[1] - xs[0]))\n",
    "           + \". \\nRed car is at \" + str(xs[1]))\n",
    "\n",
    "images_xs_ys_scalings = [[car_blue, (-5, 500), 10, 1., \"L\"],\n",
    "                         [car_red,  (15, 0),  -20, 1., \"R\"]]\n",
    "\n",
    "anim = run_animation(figsize=(15, 5), nb_frames=100, \n",
    "                     func_name=animate_images, fargs=[images_xs_ys_scalings, show_distance], interval=200)\n",
    "anim"
   ]
  },
  {
   "cell_type": "code",
   "execution_count": null,
   "metadata": {},
   "outputs": [],
   "source": []
  }
 ]
}