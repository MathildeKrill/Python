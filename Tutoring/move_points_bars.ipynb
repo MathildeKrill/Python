{
 "metadata": {
  "language_info": {
   "codemirror_mode": {
    "name": "ipython",
    "version": 3
   },
   "file_extension": ".py",
   "mimetype": "text/x-python",
   "name": "python",
   "nbconvert_exporter": "python",
   "pygments_lexer": "ipython3",
   "version": "3.8.1-final"
  },
  "orig_nbformat": 2,
  "kernelspec": {
   "name": "Python 3.8.1 64-bit ('3.8.1')",
   "display_name": "Python 3.8.1 64-bit ('3.8.1')",
   "metadata": {
    "interpreter": {
     "hash": "39d9957c0bdcc2df3d5b84add00b7d6c354fea32f7a76a6fcfdd0f906c9d2725"
    }
   }
  }
 },
 "nbformat": 4,
 "nbformat_minor": 2,
 "cells": [
  {
   "cell_type": "code",
   "execution_count": null,
   "metadata": {},
   "outputs": [],
   "source": [
    "import numpy as np\n",
    "import matplotlib.pyplot as plt\n",
    "import matplotlib.path as mpath\n",
    "import matplotlib.patches as mpatches\n",
    "import matplotlib.ticker as mticker\n",
    "from tutorship_reusable import plt_envelope, plot_point\n",
    "\n",
    "FIGSIZE = (3, 3)\n",
    "DPI = 100\n",
    "\n",
    "plt.rcParams.update({\n",
    "    \"font.size\": 15\n",
    "})\n"
   ]
  },
  {
   "cell_type": "code",
   "execution_count": null,
   "metadata": {},
   "outputs": [],
   "source": [
    "def plot_point_test(ax, x, y, colour, show_coords = True):\n",
    "    plot_point(ax = ax, x = x, y = y, colour = colour, marker = 'o', do_lines = True, show_coords = show_coords)\n",
    "    ax.axis('equal')"
   ]
  },
  {
   "cell_type": "code",
   "execution_count": null,
   "metadata": {},
   "outputs": [],
   "source": [
    "def plot_points(ax):\n",
    "    x = 1\n",
    "    y = 2\n",
    "    plot_point_test(ax, x, y, colour = 'r')\n",
    "    #x = x + 1\n",
    "    #plot_point_test(ax, x, y, colour = 'g')\n",
    "    #y = y + 1\n",
    "    #plot_point_test(ax, x, y, colour = 'b')\n",
    "\n",
    "plt_envelope(plot_points, save_file = False, figsize = FIGSIZE, dpi = DPI, add_grid = True)"
   ]
  },
  {
   "cell_type": "code",
   "execution_count": null,
   "metadata": {
    "tags": []
   },
   "outputs": [],
   "source": [
    "def plot_lines(ax):\n",
    "    many_numbers_between_minus_two_and_three = np.linspace(start=-2, stop=3, num=51)\n",
    "    #print(fifty_of_numbers_between_minus_two_and_three)\n",
    "\n",
    "    #for f in many_numbers_between_minus_two_and_three:\n",
    "    #    plot_point_test(ax, x = 1, y = f, colour = 'g', show_coords = False)\n",
    "\n",
    "    #for f in many_numbers_between_minus_two_and_three:\n",
    "    #   plot_point_test(ax, x = f, y = 1, colour = 'r', show_coords = False)\n",
    "\n",
    "plt_envelope(plot_lines, save_file = False, figsize = FIGSIZE, dpi = DPI, add_grid = True)"
   ]
  },
  {
   "cell_type": "code",
   "execution_count": null,
   "metadata": {},
   "outputs": [],
   "source": [
    "def move_lines(ax):\n",
    "\n",
    "    x_coords = np.array([1, 2])\n",
    "    y_coords = np.array([3, 5])\n",
    "    ax.plot(x_coords, y_coords)\n",
    "\n",
    "plt_envelope(move_lines, save_file = False, figsize = FIGSIZE, dpi = DPI, add_grid = True)"
   ]
  },
  {
   "cell_type": "code",
   "execution_count": null,
   "metadata": {
    "tags": []
   },
   "outputs": [],
   "source": [
    "def distance(x1, x2, y1, y2):\n",
    "    print((x1 - x2) ** 2)\n",
    "    result = np.sqrt((x1 - x2) ** 2 + (y1 - y2) ** 2)\n",
    "    return result\n",
    "\n",
    "assert abs(distance(1, 4, 1, 5) - 5) < 0.01, \"We've got a problem\"\n",
    "\n",
    "def plot_perspective(ax):\n",
    "    ax.axis('equal')\n",
    "    p_x = 10.0\n",
    "    p_y = 5.0\n",
    "    x1_start = 2.0\n",
    "    x2_start = 5.0\n",
    "    y_start = 1.0\n",
    "\n",
    "    ax.plot(np.array([x1_start, p_x]), np.array([y_start, p_y]))\n",
    "    ax.plot(np.array([x2_start, p_x]), np.array([y_start, p_y]))\n",
    "    ax.plot(np.array([p_x, p_x]), np.array([y_start, p_y]))\n",
    "\n",
    "    plot_point(ax = ax, x = x1_start, y = y_start, annotiation = 'A', marker = 'o', show_coords = True)\n",
    "    plot_point(ax = ax, x = x2_start, y = y_start, annotiation = 'B', marker = 'o', show_coords = True)\n",
    "    plot_point(ax = ax, x = p_x, y = y_start, annotiation = 'H', marker = 'o', show_coords = True)\n",
    "    plot_point(ax = ax, x = p_x, y = y_start+1, annotiation = \"H'\", marker = 'o', show_coords = True)\n",
    "    plot_point(ax = ax, x = p_x, y = p_y, annotiation = 'P', marker = 'o', show_coords = True)\n",
    "    plot_point(ax = ax, x = 4., y = 2., annotiation = \"A'\", marker = 'o', show_coords = True)\n",
    "    #plot_point(ax = ax, x = 4., y = 2., annotiation = \"A'\", marker = 'o', show_coords = True)\n",
    "\n",
    "\n",
    "plt_envelope(plot_perspective, save_file = False, figsize = (8, 5), dpi = DPI, add_grid = True)"
   ]
  },
  {
   "cell_type": "code",
   "execution_count": null,
   "metadata": {},
   "outputs": [],
   "source": []
  }
 ]
}