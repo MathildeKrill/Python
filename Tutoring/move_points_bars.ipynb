{
 "metadata": {
  "language_info": {
   "codemirror_mode": {
    "name": "ipython",
    "version": 3
   },
   "file_extension": ".py",
   "mimetype": "text/x-python",
   "name": "python",
   "nbconvert_exporter": "python",
   "pygments_lexer": "ipython3",
   "version": "3.8.1-final"
  },
  "orig_nbformat": 2,
  "kernelspec": {
   "name": "Python 3.8.1 64-bit ('3.8.1')",
   "display_name": "Python 3.8.1 64-bit ('3.8.1')",
   "metadata": {
    "interpreter": {
     "hash": "39d9957c0bdcc2df3d5b84add00b7d6c354fea32f7a76a6fcfdd0f906c9d2725"
    }
   }
  }
 },
 "nbformat": 4,
 "nbformat_minor": 2,
 "cells": [
  {
   "cell_type": "code",
   "execution_count": null,
   "metadata": {},
   "outputs": [],
   "source": [
    "import numpy as np\n",
    "import matplotlib.pyplot as plt\n",
    "import matplotlib.path as mpath\n",
    "import matplotlib.patches as mpatches\n",
    "import matplotlib.ticker as mticker\n",
    "from tutorship_reusable import plt_envelope, plot_point, plot_grid, fill_in_outline\n",
    "\n",
    "FIGSIZE = (5, 5)\n",
    "DPI = 100\n",
    "\n",
    "plt.rcParams.update({\n",
    "    \"font.size\": 10\n",
    "})\n"
   ]
  },
  {
   "cell_type": "code",
   "execution_count": null,
   "metadata": {},
   "outputs": [],
   "source": [
    "def plot_point_test(ax, x, y, colour, show_coords = True):\n",
    "    plot_point(ax = ax, x = x, y = y, colour = colour, marker = 'o', do_lines = True, show_coords = show_coords)\n",
    "    ax.axis('equal')"
   ]
  },
  {
   "cell_type": "code",
   "execution_count": null,
   "metadata": {},
   "outputs": [],
   "source": [
    "def plot_points(ax):\n",
    "    \n",
    "    plot_grid(ax = ax, x = 3, y = 3) # to create initial grid\n",
    "\n",
    "    x = 1\n",
    "    y = 2\n",
    "    plot_point_test(ax, x, y, colour = 'r')\n",
    "    x = x + 1\n",
    "    plot_point_test(ax, x, y, colour = 'c')\n",
    "    y = y + 1\n",
    "    #plot_point_test(ax, x, y, colour = 'b')\n",
    "\n",
    "plt_envelope(plot_points, save_file = False, figsize = FIGSIZE, dpi = DPI, add_grid = True)"
   ]
  },
  {
   "cell_type": "code",
   "execution_count": null,
   "metadata": {
    "tags": []
   },
   "outputs": [],
   "source": [
    "def plot_lines(ax):\n",
    "    many_numbers_between_minus_two_and_three = np.linspace(start=-2, stop=3, num=51)\n",
    "    #print(fifty_of_numbers_between_minus_two_and_three)\n",
    "\n",
    "    # this is a ??? line  \n",
    "    for f in many_numbers_between_minus_two_and_three:\n",
    "        plot_point_test(ax, x = 1, y = f, colour = 'g', show_coords = False)\n",
    "\n",
    "    # this is a ??? line\n",
    "    for f in many_numbers_between_minus_two_and_three:\n",
    "       plot_point_test(ax, x = f, y = 2, colour = 'r', show_coords = False)\n",
    "\n",
    "plt_envelope(plot_lines, save_file = False, figsize = FIGSIZE, dpi = DPI, add_grid = True)"
   ]
  },
  {
   "cell_type": "code",
   "execution_count": null,
   "metadata": {},
   "outputs": [],
   "source": [
    "def move_lines(ax):\n",
    "\n",
    "    x_coords = np.array([1, 2])\n",
    "    y_coords = np.array([3, 5])\n",
    "    ax.plot(x_coords, y_coords)\n",
    "\n",
    "plt_envelope(move_lines, save_file = False, figsize = FIGSIZE, dpi = DPI, add_grid = True)"
   ]
  },
  {
   "cell_type": "code",
   "execution_count": null,
   "metadata": {
    "tags": []
   },
   "outputs": [],
   "source": [
    "def distance(x1, x2, y1, y2):\n",
    "    result = np.sqrt((x1 - x2) ** 2 + (y1 - y2) ** 2)\n",
    "    return result\n",
    "\n",
    "assert abs(distance(1, 4, 1, 5) - 5) < 0.01, \"We've got a problem\"\n",
    "\n",
    "def fill_in_trapeze(ax, x11, x12, y1, x21, x22, y2, colour):\n",
    "    outline = [[x11, y1], [x12, y1], [x22, y2], [x21, y2], [x11, y1]]\n",
    "    fill_in_outline(ax = ax, outline = outline, fill_in_colour = colour)\n",
    "\n",
    "annotate_mark_show = False\n",
    "\n",
    "def annotate_points_chesboard(ax, x_array, y, nb_line):\n",
    "    if annotate_mark_show:\n",
    "        for i, x in enumerate(x_array):\n",
    "            annotiation = chr(65 + i) + \"_\" + str(nb_line)\n",
    "            plot_point(ax = ax, x = x, y = y, annotiation = annotiation, marker = 'o', show_coords = True)\n",
    "\n",
    "def plot_perspective(ax):    \n",
    "    ax.axis('equal')\n",
    "\n",
    "    p_x = 8.0\n",
    "    p_y = 13.0\n",
    "    half_of_how_many = 2\n",
    "    first_width = 3.0\n",
    "    x_1 = np.linspace(p_x - half_of_how_many * first_width, p_x + half_of_how_many * first_width, half_of_how_many * 2 + 1)\n",
    "    y_1 = 1.0\n",
    "    plot_point(ax = ax, x = p_x, y = p_y, annotiation = 'P', marker = 'o', show_coords = True)\n",
    "\n",
    "    for x in x_1:\n",
    "        if annotate_mark_show:\n",
    "            ax.plot(np.array([x, p_x]), np.array([y_1, p_y]))\n",
    "    annotate_points_chesboard(ax, x_array = x_1, y = y_1, nb_line = 1)\n",
    "\n",
    "    dist_y_from_C1_to_C2 = 1.0\n",
    "    dist_x_from_A2_to_C2 = 5.5\n",
    "\n",
    "    x_2 = [p_x-5.5, None, p_x, None, None]\n",
    "    y_2 = y_1 + dist_y_from_C1_to_C2\n",
    "\n",
    "    proportion = (p_y - y_2) / (p_y - y_1)\n",
    "    x_2 = (x_1 - p_x) * proportion + p_x\n",
    "    y_3 = y_1 + dist_y_from_C1_to_C2 * (1 + proportion)\n",
    "    x_3 = (x_2 - p_x) * proportion + p_x\n",
    "    y_4 = y_3 + dist_y_from_C1_to_C2 * proportion * proportion\n",
    "    x_4 = (x_3 - p_x) * proportion + p_x\n",
    "    y_5 = y_4 + dist_y_from_C1_to_C2 * proportion * proportion * proportion\n",
    "    x_5 = (x_4 - p_x) * proportion + p_x\n",
    "\n",
    "    annotate_points_chesboard(ax, x_array = x_2, y = y_2, nb_line = 2)\n",
    "\n",
    "    for i in range(half_of_how_many * 2):\n",
    "        if i % 2 == 0:\n",
    "            colour = \"black\"\n",
    "        else:\n",
    "            colour = \"white\"\n",
    "        fill_in_trapeze(ax, x11 = x_1[i], x12 = x_1[i + 1], y1 = y_1, x21 = x_2[i], x22 = x_2[i + 1], y2 = y_2, colour = colour)\n",
    "\n",
    "    for i in range(half_of_how_many * 2):\n",
    "        if i % 2 == 1:\n",
    "            colour = \"black\"\n",
    "        else:\n",
    "            colour = \"white\"\n",
    "        fill_in_trapeze(ax, x11 = x_3[i], x12 = x_3[i + 1], y1 = y_3, x21 = x_2[i], x22 = x_2[i + 1], y2 = y_2, colour = colour)\n",
    "\n",
    "    for i in range(half_of_how_many * 2):\n",
    "        if i % 2 == 0:\n",
    "            colour = \"black\"\n",
    "        else:\n",
    "            colour = \"white\"\n",
    "        fill_in_trapeze(ax, x11 = x_3[i], x12 = x_3[i + 1], y1 = y_3, x21 = x_4[i], x22 = x_4[i + 1], y2 = y_4, colour = colour)\n",
    "\n",
    "    for i in range(half_of_how_many * 2):\n",
    "        if i % 2 == 1:\n",
    "            colour = \"black\"\n",
    "        else:\n",
    "            colour = \"white\"\n",
    "        fill_in_trapeze(ax, x11 = x_5[i], x12 = x_5[i + 1], y1 = y_5, x21 = x_4[i], x22 = x_4[i + 1], y2 = y_4, colour = colour)\n",
    "\n",
    "plt_envelope(plot_perspective, save_file = False, figsize = (10, 5), dpi = DPI, add_grid = True)"
   ]
  },
  {
   "cell_type": "code",
   "execution_count": null,
   "metadata": {},
   "outputs": [],
   "source": []
  }
 ]
}