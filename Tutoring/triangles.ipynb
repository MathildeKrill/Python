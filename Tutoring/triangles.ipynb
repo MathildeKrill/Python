{
 "metadata": {
  "language_info": {
   "codemirror_mode": {
    "name": "ipython",
    "version": 3
   },
   "file_extension": ".py",
   "mimetype": "text/x-python",
   "name": "python",
   "nbconvert_exporter": "python",
   "pygments_lexer": "ipython3",
   "version": "3.8.1-final"
  },
  "orig_nbformat": 2,
  "kernelspec": {
   "name": "Python 3.8.1 64-bit ('3.8.1': pyenv)",
   "display_name": "Python 3.8.1 64-bit ('3.8.1': pyenv)",
   "metadata": {
    "interpreter": {
     "hash": "39d9957c0bdcc2df3d5b84add00b7d6c354fea32f7a76a6fcfdd0f906c9d2725"
    }
   }
  }
 },
 "nbformat": 4,
 "nbformat_minor": 2,
 "cells": [
  {
   "cell_type": "code",
   "execution_count": null,
   "metadata": {},
   "outputs": [],
   "source": [
    "import numpy as np\n",
    "from yu_plot_axes import plt_envelope\n",
    "from yu_plot_basic_shapes import create_polygon, create_polygons\n",
    "import matplotlib.pyplot as plt\n",
    "\n",
    "%matplotlib ipympl \n",
    "#widget #\n",
    "from ipywidgets import interactive, fixed, interact\n",
    "\n",
    "FIGSIZE = (3, 3)\n",
    "DPI = 100\n",
    "\n",
    "plt.rcParams.update({\n",
    "    \"font.size\": 8\n",
    "})"
   ]
  },
  {
   "cell_type": "code",
   "execution_count": null,
   "metadata": {},
   "outputs": [],
   "source": [
    "y_bottom = 2\n",
    "y_top = 6\n",
    "x_left = 1\n",
    "x_right = 9\n",
    "plt_envelope(func_to_call = create_polygons, \n",
    "             figsize = FIGSIZE, dpi = 200, add_grid = True,\n",
    "             params_polygons = [{'all_x' : [x_left, x_right, x_left, x_left], \n",
    "                                     'all_y' : [y_bottom, y_bottom, y_top, y_bottom], \n",
    "                                     'style' : '-', \n",
    "                                     'fill_in_colour' : (0.8, 0.8, 1.0)},\n",
    "                                     {'all_x' : [x_right, x_right, x_left, x_right], \n",
    "                                     'all_y' : [y_top, y_bottom, y_top, y_top], \n",
    "                                     'style' : '-', \n",
    "                                     'fill_in_colour' : (0.0, 1.0, 0.0)},\n",
    "             ], params_points = [{'x' : x_left, 'y' : y_bottom, 'annotiation' : 'A'},\n",
    "                                 {'x' : x_right, 'y' : y_bottom, 'annotiation' : 'B'},\n",
    "                                 {'x' : x_left, 'y' : y_top, 'annotiation' : 'C'},\n",
    "                                 {'x' : x_right, 'y' : y_top, 'annotiation' : 'D'},\n",
    "             ])"
   ]
  },
  {
   "cell_type": "code",
   "execution_count": null,
   "metadata": {},
   "outputs": [],
   "source": [
    "def triangle1(ax, y_bottom = 2, y_top = 6, x_left = 1, x_right = 9):\n",
    "    return create_polygons(ax=ax, \n",
    "                           params_polygons=[\n",
    "                                    {'all_x' : [x_left, x_right, x_left, x_left], \n",
    "                                     'all_y' : [y_bottom, y_bottom, y_top, y_bottom], \n",
    "                                     'style' : '-', \n",
    "                                     'fill_in_colour' : (0.8, 0.8, 1.0)},\n",
    "                                     {'all_x' : [x_right, x_right, x_left, x_right], \n",
    "                                     'all_y' : [y_top, y_bottom, y_top, y_top], \n",
    "                                     'style' : '-', \n",
    "                                     'fill_in_colour' : (0.0, 1.0, 0.0)},\n",
    "                                             ], \n",
    "                params_points = [{'x' : x_left, 'y' : y_bottom, 'annotiation' : 'A'},\n",
    "                                 {'x' : x_right, 'y' : y_bottom, 'annotiation' : 'B'},\n",
    "                                 {'x' : x_left, 'y' : y_top, 'annotiation' : 'C'},\n",
    "                                 {'x' : x_right, 'y' : y_top, 'annotiation' : 'D'},\n",
    "             ])\n",
    "\n",
    "fig = plt.figure(figsize=(5,5))\n",
    "ax = fig.gca(projection='rectilinear')\n",
    "\n",
    "interactive_plot = interactive(triangle1, ax=fixed(ax), y_bottom = (-2, 2), y_top = (2, 6), x_left = (1, 5), x_right = (6, 11))\n",
    "output = interactive_plot.children[-1]\n",
    "#output.layout.height = '350px'\n",
    "interactive_plot"
   ]
  },
  {
   "cell_type": "code",
   "execution_count": null,
   "metadata": {},
   "outputs": [],
   "source": [
    "y_bottom = 2\n",
    "y_top = 10\n",
    "x_left = 1\n",
    "x_H = 5\n",
    "x_right = 12\n",
    "x_Hr = 9\n",
    "plt_envelope(func_to_call = create_polygons, \n",
    "             figsize = FIGSIZE, dpi = 200, add_grid = True,\n",
    "             params_polygons = [{'all_x' : [x_H, x_left, x_H, x_H], \n",
    "                                     'all_y' : [y_bottom, y_bottom, y_top, y_bottom], \n",
    "                                     'style' : '-', \n",
    "                                     'fill_in_colour' : (0.5, 0.5, 1.0)},\n",
    "                                     {'all_x' : [x_H, x_right, x_H, x_H], \n",
    "                                     'all_y' : [y_bottom, y_bottom, y_top, y_bottom], \n",
    "                                     'style' : '-', \n",
    "                                     'fill_in_colour' : (0.5, 0.5, 1.0)},\n",
    "             ], params_points = [{'x' : x_left, 'y' : y_bottom, 'annotiation' : 'A'},\n",
    "                                 {'x' : x_right, 'y' : y_bottom, 'annotiation' : 'B'},\n",
    "                                 {'x' : x_H, 'y' : y_top, 'annotiation' : 'C'},\n",
    "                                 {'x' : x_H, 'y' : y_bottom, 'annotiation' : 'H'},\n",
    "             ])"
   ]
  },
  {
   "cell_type": "code",
   "execution_count": null,
   "metadata": {},
   "outputs": [],
   "source": [
    "plt_envelope(func_to_call = create_polygons, \n",
    "             figsize = FIGSIZE, dpi = 200, add_grid = True,\n",
    "             params_polygons = [{'all_x' : [x_H, x_left, x_H, x_H], \n",
    "                                     'all_y' : [y_bottom, y_bottom, y_top, y_bottom], \n",
    "                                     'style' : '-', \n",
    "                                     'fill_in_colour' : (0.5, 0.5, 1.0)},\n",
    "                                     {'all_x' : [x_H, x_right, x_H, x_H], \n",
    "                                     'all_y' : [y_bottom, y_bottom, y_top, y_bottom], \n",
    "                                     'style' : '-', \n",
    "                                     'fill_in_colour' : (1.0, 0.5, 0.5)},\n",
    "             ], params_points = [{'x' : x_left, 'y' : y_bottom, 'annotiation' : 'A'},\n",
    "                                 {'x' : x_right, 'y' : y_bottom, 'annotiation' : 'B'},\n",
    "                                 {'x' : x_H, 'y' : y_top, 'annotiation' : 'C'},\n",
    "                                 {'x' : x_H, 'y' : y_bottom, 'annotiation' : 'H'},\n",
    "             ])"
   ]
  },
  {
   "cell_type": "code",
   "execution_count": null,
   "metadata": {},
   "outputs": [],
   "source": [
    "plt_envelope(func_to_call = create_polygons, \n",
    "             figsize = FIGSIZE, dpi = 200, add_grid = True,\n",
    "             params_polygons = [\n",
    "                                     {'all_x' : [x_Hr, x_right, x_H, x_Hr], \n",
    "                                     'all_y' : [y_bottom, y_bottom, y_top, y_bottom], \n",
    "                                     'style' : '-', \n",
    "                                     'fill_in_colour' : (0.5, 0.5, 1.0)},\n",
    "             ], params_points = [{'x' : x_Hr, 'y' : y_bottom, 'annotiation' : 'A'},\n",
    "                                 {'x' : x_right, 'y' : y_bottom, 'annotiation' : 'B'},\n",
    "                                 {'x' : x_H, 'y' : y_top, 'annotiation' : 'C'},\n",
    "                                 {'x' : x_H, 'y' : y_bottom, 'annotiation' : 'H'},\n",
    "                                 {'x' : x_right, 'y' : y_top, 'annotiation' : 'G'},\n",
    "             ])"
   ]
  },
  {
   "cell_type": "code",
   "execution_count": null,
   "metadata": {},
   "outputs": [],
   "source": [
    "plt_envelope(func_to_call = create_polygons, \n",
    "             figsize = FIGSIZE, dpi = 200, add_grid = True,\n",
    "             params_polygons = [{'all_x' : [x_H, x_Hr, x_H, x_H], \n",
    "                                     'all_y' : [y_bottom, y_bottom, y_top, y_bottom], \n",
    "                                     'style' : '-', \n",
    "                                     'fill_in_colour' : (0.6, 1.0, 0.6)},\n",
    "                                     {'all_x' : [x_Hr, x_right, x_H, x_Hr], \n",
    "                                     'all_y' : [y_bottom, y_bottom, y_top, y_bottom], \n",
    "                                     'style' : '-', \n",
    "                                     'fill_in_colour' : (0.5, 0.5, 1.0)},\n",
    "             ], params_points = [{'x' : x_Hr, 'y' : y_bottom, 'annotiation' : 'A'},\n",
    "                                 {'x' : x_right, 'y' : y_bottom, 'annotiation' : 'B'},\n",
    "                                 {'x' : x_H, 'y' : y_top, 'annotiation' : 'C'},\n",
    "                                 {'x' : x_H, 'y' : y_bottom, 'annotiation' : 'H'},\n",
    "                                 {'x' : x_right, 'y' : y_top, 'annotiation' : 'G'},\n",
    "             ])"
   ]
  }
 ]
}