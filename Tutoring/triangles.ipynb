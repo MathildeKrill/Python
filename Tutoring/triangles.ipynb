{
 "metadata": {
  "language_info": {
   "codemirror_mode": {
    "name": "ipython",
    "version": 3
   },
   "file_extension": ".py",
   "mimetype": "text/x-python",
   "name": "python",
   "nbconvert_exporter": "python",
   "pygments_lexer": "ipython3",
   "version": "3.8.1-final"
  },
  "orig_nbformat": 2,
  "kernelspec": {
   "name": "Python 3.8.1 64-bit ('3.8.1': pyenv)",
   "display_name": "Python 3.8.1 64-bit ('3.8.1': pyenv)",
   "metadata": {
    "interpreter": {
     "hash": "39d9957c0bdcc2df3d5b84add00b7d6c354fea32f7a76a6fcfdd0f906c9d2725"
    }
   }
  }
 },
 "nbformat": 4,
 "nbformat_minor": 2,
 "cells": [
  {
   "cell_type": "code",
   "execution_count": null,
   "metadata": {},
   "outputs": [],
   "source": [
    "import numpy as np\n",
    "from yu_plot_axes import plt_envelope\n",
    "from yu_plot_basic_shapes import create_polygon, create_polygons\n",
    "import matplotlib.pyplot as plt\n",
    "\n",
    "%matplotlib ipympl\n",
    "from ipywidgets import interactive, fixed, interact\n",
    "\n",
    "FIGSIZE = (5, 3)\n",
    "DPI = 100\n",
    "\n",
    "plt.rcParams.update({\n",
    "    \"font.size\": 8\n",
    "})"
   ]
  },
  {
   "cell_type": "code",
   "execution_count": null,
   "metadata": {},
   "outputs": [],
   "source": [
    "def polygons_envelope(func_param, figsize = FIGSIZE, dpi = 100, add_grid = True, **kwargs):\n",
    "    params_polygons, params_points=func_param(**kwargs)\n",
    "    plt_envelope(func_to_call = create_polygons, \n",
    "                 figsize = figsize, dpi = dpi, add_grid = add_grid,\n",
    "                 params_polygons = params_polygons,\n",
    "                 params_points = params_points)\n",
    "\n",
    "def polygons_interactive(func_param, figsize = FIGSIZE, dpi = 100, **kwargs):\n",
    "    fig = plt.figure(figsize=figsize, dpi=dpi)\n",
    "    ax = fig.gca(projection='rectilinear')\n",
    "    def internal_params_transform_create_polygons(ax, **kwargs):\n",
    "        params_polygons, params_points = func_param(**kwargs)\n",
    "        ax.clear()\n",
    "        return create_polygons(ax=ax, params_polygons=params_polygons, params_points=params_points)\n",
    "    interactive_plot = interactive(internal_params_transform_create_polygons, ax=fixed(ax), **kwargs)\n",
    "    return interactive_plot"
   ]
  },
  {
   "cell_type": "code",
   "execution_count": null,
   "metadata": {},
   "outputs": [],
   "source": [
    "def p_triangle(y_bottom, y_top, x_left, x_right, x_top, colour_L=(0.8, 0.8, 1.0), colour_R=(1.0, 0.5, 0.5), colour_zero=(0.8, 0.8, 0.8)):\n",
    "    epsilon = 0.1\n",
    "\n",
    "    params_points = [{'x' : x_top, 'y' : y_top, 'annotiation' : 'A'},\n",
    "                     {'x' : x_right, 'y' : y_bottom, 'annotiation' : 'B'},\n",
    "                     {'x' : x_left, 'y' : y_bottom, 'annotiation' : 'C'}]\n",
    "    if (abs(x_top-x_left)>epsilon) and (abs(x_top-x_right)>epsilon):\n",
    "        params_points.append({'x' : x_top, 'y' : y_bottom, 'annotiation' : 'H'})\n",
    "\n",
    "    if (x_left<x_top) and (x_top<x_right):\n",
    "        params_polygons=[           {'all_x' : [x_left, x_top, x_top, x_left], \n",
    "                                     'all_y' : [y_bottom, y_bottom, y_top, y_bottom], \n",
    "                                     'style' : '-', \n",
    "                                     'fill_in_colour' : colour_L},\n",
    "                                    {'all_x' : [x_right, x_top, x_top, x_right], \n",
    "                                     'all_y' : [y_bottom, y_bottom, y_top, y_bottom], \n",
    "                                     'style' : '-', \n",
    "                                     'fill_in_colour' : colour_R}] \n",
    "    else:\n",
    "        if (x_top<=x_left):\n",
    "            fill_in_colour = colour_L\n",
    "            x_for_zero=x_left\n",
    "        else:\n",
    "            fill_in_colour = colour_R\n",
    "            x_for_zero=x_right\n",
    "        params_polygons=[           {'all_x' : [x_for_zero, x_top, x_top, x_for_zero], \n",
    "                                     'all_y' : [y_bottom, y_bottom, y_top, y_bottom], \n",
    "                                     'style' : '-', \n",
    "                                     'fill_in_colour' : colour_zero},\n",
    "                                    {'all_x' : [x_right, x_left, x_top, x_right], \n",
    "                                     'all_y' : [y_bottom, y_bottom, y_top, y_bottom], \n",
    "                                     'style' : '-', \n",
    "                                     'fill_in_colour' : fill_in_colour}] \n",
    "\n",
    "    return params_polygons, params_points\n",
    "\n",
    "def p_triangle2(y_bottom, y_top, x_left, x_right):\n",
    "    params_polygons=[\n",
    "                                    {'all_x' : [x_left, x_right, x_left, x_left], \n",
    "                                     'all_y' : [y_bottom, y_bottom, y_top, y_bottom], \n",
    "                                     'style' : '-', \n",
    "                                     'fill_in_colour' : (0.8, 0.8, 1.0)},\n",
    "                                     {'all_x' : [x_right, x_right, x_left, x_right], \n",
    "                                     'all_y' : [y_top, y_bottom, y_top, y_top], \n",
    "                                     'style' : '-', \n",
    "                                     'fill_in_colour' : (0.0, 1.0, 0.0)}] \n",
    "    params_points = [{'x' : x_left, 'y' : y_bottom, 'annotiation' : 'A'},\n",
    "                                 {'x' : x_right, 'y' : y_bottom, 'annotiation' : 'B'},\n",
    "                                 {'x' : x_left, 'y' : y_top, 'annotiation' : 'C'},\n",
    "                                 {'x' : x_right, 'y' : y_top, 'annotiation' : 'D'}]\n",
    "    return params_polygons, params_points"
   ]
  },
  {
   "cell_type": "code",
   "execution_count": null,
   "metadata": {},
   "outputs": [],
   "source": [
    "polygons_envelope(func_param=p_triangle, y_bottom=2, y_top=6, x_left=1, x_right=9, x_top=13)"
   ]
  },
  {
   "cell_type": "code",
   "execution_count": null,
   "metadata": {},
   "outputs": [],
   "source": [
    "interactive_plot = polygons_interactive(func_param=p_triangle, \n",
    "                                        y_bottom = (-2, 2), y_top = (2, 6), x_left = (1, 5), x_right = (6, 11), x_top=(0,13))\n",
    "interactive_plot"
   ]
  },
  {
   "cell_type": "code",
   "execution_count": null,
   "metadata": {},
   "outputs": [],
   "source": []
  }
 ]
}