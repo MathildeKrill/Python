{
 "metadata": {
  "language_info": {
   "codemirror_mode": {
    "name": "ipython",
    "version": 3
   },
   "file_extension": ".py",
   "mimetype": "text/x-python",
   "name": "python",
   "nbconvert_exporter": "python",
   "pygments_lexer": "ipython3",
   "version": "3.8.1-final"
  },
  "orig_nbformat": 2,
  "kernelspec": {
   "name": "python_defaultSpec_1600678704387",
   "display_name": "Python 3.8.1 64-bit ('3.8.1': pyenv)"
  }
 },
 "nbformat": 4,
 "nbformat_minor": 2,
 "cells": [
  {
   "cell_type": "code",
   "execution_count": null,
   "metadata": {},
   "outputs": [],
   "source": [
    "import numpy as np\n",
    "import matplotlib.pyplot as plt\n",
    "import matplotlib.path as mpath\n",
    "import matplotlib.lines as mlines\n",
    "import matplotlib.patches as mpatches\n",
    "import matplotlib.text as mtext\n",
    "import random\n",
    "\n",
    "plt.rcParams.update({\n",
    "    \"pgf.texsystem\": \"pdflatex\",\n",
    "    \"pgf.preamble\": [\n",
    "         r\"\\usepackage[utf8x]{inputenc}\",\n",
    "         r\"\\usepackage[T1]{fontenc}\",\n",
    "         r\"\\usepackage{cmbright}\",\n",
    "         ]\n",
    "})\n"
   ]
  },
  {
   "cell_type": "code",
   "execution_count": null,
   "metadata": {},
   "outputs": [],
   "source": [
    "def check_quiz_solution(what_are_we_looking_for, correct_solution, solution_units = None, tolerance = 0.0001):\n",
    "    question = \"What is \" + what_are_we_looking_for\n",
    "    if solution_units is not None:\n",
    "        solution_units_to_use = \" \" + solution_units\n",
    "        question += \" (in \" + solution_units + \")\"\n",
    "    else: \n",
    "        solution_units_to_use = \"\"\n",
    "    user_solution_string = input(question + \"?\")\n",
    "    try:\n",
    "        user_solution_number = float(user_solution_string)\n",
    "        if abs(user_solution_number - correct_solution) < tolerance:\n",
    "            conclusion = \"This is correct, congratulations!\"\n",
    "        else:\n",
    "            conclusion = \"Unfortunately this is incorrect.\"\n",
    "    except:\n",
    "        conclusion = \"This is not a number!\"\n",
    "    return (what_are_we_looking_for + \" is \" + str(correct_solution) + solution_units_to_use,\n",
    "            \"User solution is \" + str(user_solution_string) + solution_units_to_use, \n",
    "            conclusion)"
   ]
  },
  {
   "cell_type": "code",
   "execution_count": null,
   "metadata": {},
   "outputs": [],
   "source": [
    "def create_vertical_arrow(arrow_x, \n",
    "                          arrowhead_width, # not used\n",
    "                          arrowhead_tip_y, \n",
    "                          arrowhead_tip_height, \n",
    "                          end_shaft, \n",
    "                          colour_arrowhead = 'black',\n",
    "                          colour_shaft = None): \n",
    "    if colour_shaft is None: # if we have not specified the colour of the shaft\n",
    "        colour_shaft = colour_arrowhead # use the same colour as the colour of the arrowhead!\n",
    "\n",
    "                                                            # define a symmetric 1-by-1 arrowhead\n",
    "    arrowhead_outline = np.array([[-0.5, 1.0], [0.5, 1.0], [0.0, 0.0], [-0.5, 1.0]])   \n",
    "    arrowhead_outline *= arrowhead_tip_height               # scale it\n",
    "    if (end_shaft < arrowhead_tip_y):                       # if the end of the tip is above the end of the shaft,\n",
    "        arrowhead_outline[:, 1] *= -1                       # flip it upside down\n",
    "    arrowhead_outline[:, 0] += arrow_x                      # change X coords to move along OX axis\n",
    "    arrowhead_outline[:, 1] += arrowhead_tip_y              # change Y coords to move along OY axis\n",
    "\n",
    "    path = mpath.Path(arrowhead_outline)                    # create the outline of the arrowhead\n",
    "    arrowhead = mpatches.PathPatch(path, \n",
    "                                   fc = colour_arrowhead, \n",
    "                                   ec = colour_arrowhead)   # fill in the outline\n",
    "\n",
    "    # x = np.array([arrow_x, arrow_x])                      # define where the arrow line should go - X coordinates\n",
    "    # y = np.array([arrowhead_tip_y, end_shaft])            # define where the arrow line should go - Y coordinates\n",
    "    # ax.plot(x, y, color=colour_shaft)                     # add the arrow shaft to the figure\n",
    "\n",
    "    shaft = mlines.Line2D([arrow_x, arrow_x], [arrowhead_tip_y, end_shaft], color=colour_shaft) # create the line - shaft\n",
    "    \n",
    "    return arrowhead, shaft\n",
    "    "
   ]
  },
  {
   "cell_type": "code",
   "execution_count": null,
   "metadata": {},
   "outputs": [],
   "source": [
    "def create_ruler(min_x, max_x, nb_steps, big_bar_frequency, \n",
    "                 x_arrow = None, show_solution = True, create_arrow_func = create_vertical_arrow):\n",
    "    y_lim_small = 0.1\n",
    "    y_lim_big = 0.2\n",
    "    \n",
    "    plt.close()\n",
    "    _, ax = plt.subplots()                     # create the blank figure\n",
    "    \n",
    "    ax.plot([min_x, max_x], [0, 0])              # add a horizontal line to the plot\n",
    "    \n",
    "    size_step = (max_x - min_x) / nb_steps       # define the distance between vertical bars\n",
    "\n",
    "    if x_arrow is None:\n",
    "         nb_step_arrow = 1 + random.randrange(nb_steps-1)\n",
    "         x_arrow = min_x + nb_step_arrow * size_step\n",
    "\n",
    "    for i in range(nb_steps + 1):                # (nb_steps + 1) several vertical bars\n",
    "        x = min_x + i * size_step                # define where we put this vertical bar\n",
    "        x_bar = np.array([x, x])                 # define the vertical bar - X coords\n",
    "\n",
    "        y_lim = y_lim_small                      # this is the default size of the vertical bar\n",
    "        if (i % big_bar_frequency == 0):         # these bars will be longer\n",
    "            y_lim = y_lim_big     \n",
    "        y_bar = np.array([-y_lim, y_lim])        # define the vertical bar - Y coords\n",
    "\n",
    "        ax.plot(x_bar, y_bar)                    # add the vertical bar to the plot\n",
    "        if (i == 0) or (i == nb_steps):          # add annotation for the first and the last bar\n",
    "            annotation_label = str(x) + \" cm\"          # this is what the label will look like\n",
    "            ax.annotate(annotation_label, (x, -y_lim)) # add the label to the right place\n",
    "    \n",
    "    arrowhead, shaft = create_arrow_func(arrow_x = x_arrow, \n",
    "                                         arrowhead_width = None,\n",
    "                                         arrowhead_tip_y = 1.5 * y_lim_small, \n",
    "                                         arrowhead_tip_height = 0.8 * y_lim_small, \n",
    "                                         end_shaft = 3.5 * y_lim_small, \n",
    "                                         colour_arrowhead = 'gray',\n",
    "                                         colour_shaft = 'black')\n",
    "    \n",
    "    ax.add_patch(arrowhead)                        # add the arrowhead to the figure\n",
    "    ax.add_line(shaft)                             # add the arrow shaft to the figure\n",
    "    ax.annotate(\"X (in cm)\", (x_arrow, 3.5 * y_lim_small)) # add the annotion in the right place                      \n",
    "    \n",
    "    #ax.relim()                                   # change the scale\n",
    "    #ax.autoscale_view()\n",
    "    ax.axis(\"off\")                               # don't show the axis\n",
    "\n",
    "    solution = {\"The distance between the big bars\" : size_step * big_bar_frequency, \n",
    "                \"The distance between the small bars\" : size_step, \n",
    "                \"X\" : x_arrow}\n",
    "    \n",
    "    if show_solution:\n",
    "        label_friendly_solution = [key + \" is \" + str(value) + \" cm\" for key, value in solution.items()]\n",
    "        plt.title('\\n'.join(label_friendly_solution))\n",
    "        print(label_friendly_solution)\n",
    "\n",
    "    plt.show()\n",
    "    \n",
    "    if not show_solution:\n",
    "        for key, value in solution.items():\n",
    "            quiz_result = check_quiz_solution(what_are_we_looking_for = key, \n",
    "                                              correct_solution = value, \n",
    "                                              solution_units = \"cm\")\n",
    "            print('\\n'.join(quiz_result))"
   ]
  },
  {
   "cell_type": "code",
   "execution_count": null,
   "metadata": {
    "tags": []
   },
   "outputs": [],
   "source": [
    "create_ruler(min_x = 7, max_x = 14, x_arrow = 9.4, nb_steps = 35, big_bar_frequency = 5, show_solution = False)"
   ]
  },
  {
   "cell_type": "code",
   "execution_count": null,
   "metadata": {
    "tags": []
   },
   "outputs": [],
   "source": [
    "create_ruler(min_x = 24.0, max_x = 26.0, x_arrow = 25.5, nb_steps = 10, big_bar_frequency = 5)"
   ]
  },
  {
   "cell_type": "code",
   "execution_count": null,
   "metadata": {
    "tags": []
   },
   "outputs": [],
   "source": [
    "create_ruler(min_x = 4.5, max_x = 4.6, x_arrow = 4.53, nb_steps = 10, big_bar_frequency = 10)"
   ]
  },
  {
   "cell_type": "code",
   "execution_count": null,
   "metadata": {
    "tags": []
   },
   "outputs": [],
   "source": [
    "create_ruler(min_x = 9, max_x = 12, x_arrow = 10.5, nb_steps = 30, big_bar_frequency = 10)"
   ]
  },
  {
   "cell_type": "code",
   "execution_count": null,
   "metadata": {
    "tags": []
   },
   "outputs": [],
   "source": [
    "create_ruler(min_x = 19, max_x = 22, x_arrow = 20.5, nb_steps = 18, big_bar_frequency = 6)"
   ]
  },
  {
   "cell_type": "code",
   "execution_count": null,
   "metadata": {
    "tags": []
   },
   "outputs": [],
   "source": [
    "create_ruler(min_x = 0.55, max_x = 0.70, x_arrow = 0.63, nb_steps = 15, big_bar_frequency = 5)"
   ]
  },
  {
   "cell_type": "code",
   "execution_count": null,
   "metadata": {
    "tags": []
   },
   "outputs": [],
   "source": [
    "create_ruler(min_x = 7, max_x = 14, nb_steps = 35, big_bar_frequency = 5)"
   ]
  },
  {
   "cell_type": "code",
   "execution_count": null,
   "metadata": {},
   "outputs": [],
   "source": [
    "# IMPLEMENTATION WITH LOOPS\n",
    "\n",
    "min_x = 4.5\n",
    "max_x = 4.6\n",
    "x_arrow = 4.53\n",
    "\n",
    "nb_steps = 10\n",
    "big_bar_frequency = 10\n",
    "\n",
    "y_lim_small = 0.1\n",
    "y_lim_big = 0.2\n",
    "bottom_arrow = 1.5 * y_lim_small\n",
    "top_arrow = 3.5 * y_lim_small\n",
    "\n",
    "plt.close()\n",
    "fig, ax = plt.subplots()                     # create the blank figure\n",
    "\n",
    "ax.plot([min_x, max_x], [0, 0])              # add a horizontal line to the plot\n",
    "\n",
    "size_step = (max_x - min_x) / nb_steps       # define the distance between vertical bars\n",
    "for i in range(nb_steps + 1):                # (nb_steps + 1) several vertical bars\n",
    "    y_lim = y_lim_small                      # this is the default size of the vertical bar\n",
    "    if (i % big_bar_frequency == 0):         # these bars will be longer\n",
    "        y_lim = y_lim_big     \n",
    "    x = min_x + i * size_step                # define where we put this vertical bar\n",
    "    y_bar = np.array([-y_lim, y_lim])        # define the vertical bar - Y coords\n",
    "    x_bar = np.array([x, x])                 # define the vertical bar - X coords\n",
    "    ax.plot(x_bar, y_bar)                    # add the vertical bar to the plot\n",
    "    if (i == 0) or (i == nb_steps):          # add annotation for the first and the last bar\n",
    "        annotation_label = str(x) + \" cm\"          # this is what the label will look like\n",
    "        ax.annotate(annotation_label, (x, -y_lim)) # add the label to the right place\n",
    "\n",
    "x = np.array([x_arrow, x_arrow])             # define where the arrow line should go - X coordinates\n",
    "y = np.array([bottom_arrow, top_arrow])      # define where the arrow line should go - Y coordinates\n",
    "ax.plot(x, y, color=\"gray\" )                 # plot the arrow line\n",
    "ax.annotate(\"X\", (x_arrow, top_arrow))       # add X label to the right place\n",
    "\n",
    "verts = np.array([[-1.0, 2.0], [1.0, 2.0], [0.0, 0.0], [-1.0, 2.0]])   # define a big tip of the arrow\n",
    "verts *= y_lim_small * 0.4                             # make it smaller\n",
    "verts[:, 0] += x_arrow                                 # move along OX axis\n",
    "verts[:, 1] += bottom_arrow                            # move along OY axis\n",
    "path = mpath.Path(verts)                               # make it look like an arrow\n",
    "patch = mpatches.PathPatch(path, fc='gray', ec=\"gray\")\n",
    "ax.add_patch(patch)\n",
    "\n",
    "ax.relim()                                   # change the scale\n",
    "ax.autoscale_view()\n",
    "ax.axis(\"off\")                               # don't show the axis\n",
    "plt.show()"
   ]
  },
  {
   "source": [
    "#NAIVE IMPLEMENTATION\n",
    "\n",
    "plt.close()\n",
    "fig, ax = plt.subplots()             # create the blank figure\n",
    "\n",
    "ax.plot([24.0, 26.0], [0, 0])        # add a horizontal line to the plot\n",
    "\n",
    "# define where we put this vertical bar\n",
    "y_bar = np.array([-0.2, 0.2])        # scale the vertical bar\n",
    "x_bar = np.array([24.0, 24.0])       # define the bar\n",
    "ax.plot(x_bar, y_bar)                # add the vertical bar to the plot\n",
    "ax.annotate(\"24.0 cm\", (24.0, -0.2)) # add the label to the right place\n",
    "y_bar = np.array([-0.1, 0.1])        # scale the vertical bar\n",
    "x_bar = np.array([24.2, 24.2])       # define the bar\n",
    "ax.plot(x_bar, y_bar)                # add the vertical bar to the plot\n",
    "y_bar = np.array([-0.1, 0.1])        # scale the vertical bar\n",
    "x_bar = np.array([24.4, 24.4])       # define the bar\n",
    "ax.plot(x_bar, y_bar)                # add the vertical bar to the plot\n",
    "y_bar = np.array([-0.1, 0.1])        # scale the vertical bar\n",
    "x_bar = np.array([24.6, 24.6])       # define the bar\n",
    "ax.plot(x_bar, y_bar)                # add the vertical bar to the plot\n",
    "y_bar = np.array([-0.1, 0.1])        # scale the vertical bar\n",
    "x_bar = np.array([24.8, 24.8])       # define the bar\n",
    "ax.plot(x_bar, y_bar)                # add the vertical bar to the plot\n",
    "y_bar = np.array([-0.2, 0.2])        # scale the vertical bar\n",
    "x_bar = np.array([25.0, 25.0])       # define the bar\n",
    "ax.plot(x_bar, y_bar)                # add the vertical bar to the plot\n",
    "y_bar = np.array([-0.1, 0.1])        # scale the vertical bar\n",
    "x_bar = np.array([25.2, 25.2])       # define the bar\n",
    "ax.plot(x_bar, y_bar)                # add the vertical bar to the plot\n",
    "y_bar = np.array([-0.1, 0.1])        # scale the vertical bar\n",
    "x_bar = np.array([25.4, 25.4])       # define the bar\n",
    "ax.plot(x_bar, y_bar)                # add the vertical bar to the plot\n",
    "y_bar = np.array([-0.1, 0.1])        # scale the vertical bar\n",
    "x_bar = np.array([25.6, 25.6])       # define the bar\n",
    "ax.plot(x_bar, y_bar)                # add the vertical bar to the plot\n",
    "y_bar = np.array([-0.1, 0.1])        # scale the vertical bar\n",
    "x_bar = np.array([25.8, 25.8])       # define the bar\n",
    "ax.plot(x_bar, y_bar)                # add the vertical bar to the plot\n",
    "y_bar = np.array([-0.2, 0.2])        # scale the vertical bar\n",
    "x_bar = np.array([26.0, 26.0])       # define the bar\n",
    "ax.plot(x_bar, y_bar)                # add the vertical bar to the plot\n",
    "ax.annotate(\"26.0 cm\", (26.0, -0.2)) # add the label to the right place\n",
    "\n",
    "x = np.array([25.5, 25.5])             # define where the arrow line should go - X coordinates\n",
    "y = np.array([0.15, 0.35])      # define where the arrow line should go - Y coordinates\n",
    "ax.plot(x, y, color=\"gray\" )                 # plot the arrow line\n",
    "ax.annotate(\"X\", (25.5, 0.35))       # add X label to the right place\n",
    "\n",
    "verts = np.array([[25.46, 0.308], [25.54, 0.308], [25.5, 0.15], [25.46, 0.308]])   # define a big tip of the arrow\n",
    "path = mpath.Path(verts)                               # make it look like an arrow\n",
    "patch = mpatches.PathPatch(path, fc='gray', ec=\"gray\")\n",
    "ax.add_patch(patch)\n",
    "\n",
    "ax.relim()                                   # change the scale\n",
    "ax.autoscale_view()\n",
    "ax.axis(\"off\")                               # don't show the axis\n",
    "plt.show()"
   ],
   "cell_type": "code",
   "metadata": {},
   "execution_count": null,
   "outputs": []
  }
 ]
}