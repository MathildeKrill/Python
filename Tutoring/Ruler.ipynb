{
 "metadata": {
  "language_info": {
   "codemirror_mode": {
    "name": "ipython",
    "version": 3
   },
   "file_extension": ".py",
   "mimetype": "text/x-python",
   "name": "python",
   "nbconvert_exporter": "python",
   "pygments_lexer": "ipython3",
   "version": "3.8.1-final"
  },
  "orig_nbformat": 2,
  "kernelspec": {
   "name": "python_defaultSpec_1600678704387",
   "display_name": "Python 3.8.1 64-bit ('3.8.1': pyenv)"
  }
 },
 "nbformat": 4,
 "nbformat_minor": 2,
 "cells": [
  {
   "cell_type": "code",
   "execution_count": null,
   "metadata": {},
   "outputs": [],
   "source": [
    "import numpy as np\n",
    "import matplotlib.pyplot as plt\n",
    "import matplotlib.path as mpath\n",
    "import matplotlib.patches as mpatches\n"
   ]
  },
  {
   "cell_type": "code",
   "execution_count": null,
   "metadata": {},
   "outputs": [],
   "source": [
    "def create_vertical_arrow(ax,\n",
    "                          arrow_x, \n",
    "                          arrowhead_width, # not used\n",
    "                          arrowhead_tip_y, \n",
    "                          arrowhead_tip_height, \n",
    "                          end_shaft, \n",
    "                          colour_tip = 'black',\n",
    "                          colour_shaft = colour_tip,\n",
    "                          annotation = None): \n",
    "    verts = np.array([[-0.5, 1.0], [0.5, 1.0], [0.0, 0.0], [-0.5, 1.0]])   # define a 1-by-1 tip of the arrow\n",
    "    verts *= arrowhead_tip_height                                          # scale it\n",
    "    if (end_shaft < arrowhead_tip_y):                                      # if the end of the tip is above \n",
    "        verts[:, 1] *= -1                                                  # the end of the shaft, flip it upside down\n",
    "\n",
    "    verts[:, 0] += arrow_x                                                 # change X coords to move along OX axis\n",
    "    verts[:, 1] += arrowhead_tip_y                                         # change Y coords to move along OY axis\n",
    "\n",
    "    path = mpath.Path(verts)                                               # create the outline\n",
    "    patch = mpatches.PathPatch(path, fc=colour_tip, ec=colour_tip)         # fill in the outline\n",
    "    ax.add_patch(patch)                                                    # add the arrow tip to the figure\n",
    "\n",
    "    x = np.array([arrow_x, arrow_x])                      # define where the arrow line should go - X coordinates\n",
    "    y = np.array([arrowhead_tip_y, end_shaft])            # define where the arrow line should go - Y coordinates\n",
    "    ax.plot(x, y, color=colour_shaft)                     # add the arrow shaft to the figure\n",
    "\n",
    "    ax.annotate(annotation, (arrow_x, end_shaft))         # add an annotion in the right place\n",
    "    "
   ]
  },
  {
   "cell_type": "code",
   "execution_count": null,
   "metadata": {},
   "outputs": [],
   "source": [
    "def create_ruler(min_x, max_x, x_arrow, nb_steps, big_bar_frequency, create_arrow_func = create_vertical_arrow):\n",
    "    y_lim_small = 0.1\n",
    "    y_lim_big = 0.2\n",
    "    \n",
    "    plt.close()\n",
    "    fig, ax = plt.subplots()                     # create the blank figure\n",
    "    \n",
    "    ax.plot([min_x, max_x], [0, 0])              # add a horizontal line to the plot\n",
    "    \n",
    "    size_step = (max_x - min_x) / nb_steps       # define the distance between vertical bars\n",
    "    for i in range(nb_steps + 1):                # (nb_steps + 1) several vertical bars\n",
    "        y_lim = y_lim_small                      # this is the default size of the vertical bar\n",
    "        if (i % big_bar_frequency == 0):         # these bars will be longer\n",
    "            y_lim = y_lim_big     \n",
    "        x = min_x + i * size_step                # define where we put this vertical bar\n",
    "        y_bar = np.array([-y_lim, y_lim])        # define the vertical bar - Y coords\n",
    "        x_bar = np.array([x, x])                 # define the vertical bar - X coords\n",
    "        ax.plot(x_bar, y_bar)                    # add the vertical bar to the plot\n",
    "        if (i == 0) or (i == nb_steps):          # add annotation for the first and the last bar\n",
    "            annotation_label = str(x) + \" cm\"          # this is what the label will look like\n",
    "            ax.annotate(annotation_label, (x, -y_lim)) # add the label to the right place\n",
    "    \n",
    "    create_arrow_func(    ax = ax,\n",
    "                          arrow_x = x_arrow, \n",
    "                          arrowhead_width = None,\n",
    "                          arrowhead_tip_y = 1.5 * y_lim_small, \n",
    "                          arrowhead_tip_height = 0.8 * y_lim_small, \n",
    "                          end_shaft = 3.5 * y_lim_small, \n",
    "                          colour_tip = 'gray',\n",
    "                          colour_shaft = 'black',\n",
    "                          annotation = 'X')\n",
    "    \n",
    "    ax.relim()                                   # change the scale\n",
    "    ax.autoscale_view()\n",
    "    ax.axis(\"off\")                               # don't show the axis\n",
    "    plt.show()"
   ]
  },
  {
   "cell_type": "code",
   "execution_count": null,
   "metadata": {},
   "outputs": [],
   "source": [
    "create_ruler(min_x = 7, max_x = 14, x_arrow = 9.4, nb_steps = 35, big_bar_frequency = 5)"
   ]
  },
  {
   "cell_type": "code",
   "execution_count": null,
   "metadata": {},
   "outputs": [],
   "source": [
    "create_ruler(min_x = 24.0, max_x = 26.0, x_arrow = 25.5, nb_steps = 10, big_bar_frequency = 5)"
   ]
  },
  {
   "cell_type": "code",
   "execution_count": null,
   "metadata": {},
   "outputs": [],
   "source": [
    "create_ruler(min_x = 4.5, max_x = 4.6, x_arrow = 4.53, nb_steps = 10, big_bar_frequency = 10)"
   ]
  },
  {
   "cell_type": "code",
   "execution_count": null,
   "metadata": {},
   "outputs": [],
   "source": [
    "create_ruler(min_x = 9, max_x = 12, x_arrow = 10.5, nb_steps = 30, big_bar_frequency = 10)"
   ]
  },
  {
   "cell_type": "code",
   "execution_count": null,
   "metadata": {},
   "outputs": [],
   "source": [
    "create_ruler(min_x = 19, max_x = 22, x_arrow = 20.5, nb_steps = 18, big_bar_frequency = 6)"
   ]
  },
  {
   "cell_type": "code",
   "execution_count": null,
   "metadata": {},
   "outputs": [],
   "source": [
    "create_ruler(min_x = 0.55, max_x = 0.70, x_arrow = 0.63, nb_steps = 15, big_bar_frequency = 5)"
   ]
  },
  {
   "cell_type": "code",
   "execution_count": null,
   "metadata": {},
   "outputs": [],
   "source": [
    "create_ruler(min_x = 7, max_x = 14, x_arrow = 9.4, nb_steps = 35, big_bar_frequency = 5)"
   ]
  },
  {
   "cell_type": "code",
   "execution_count": null,
   "metadata": {},
   "outputs": [],
   "source": [
    "# IMPLEMENTATION WITH LOOPS\n",
    "\n",
    "min_x = 4.5\n",
    "max_x = 4.6\n",
    "x_arrow = 4.53\n",
    "\n",
    "nb_steps = 10\n",
    "big_bar_frequency = 10\n",
    "\n",
    "y_lim_small = 0.1\n",
    "y_lim_big = 0.2\n",
    "bottom_arrow = 1.5 * y_lim_small\n",
    "top_arrow = 3.5 * y_lim_small\n",
    "\n",
    "plt.close()\n",
    "fig, ax = plt.subplots()                     # create the blank figure\n",
    "\n",
    "ax.plot([min_x, max_x], [0, 0])              # add a horizontal line to the plot\n",
    "\n",
    "size_step = (max_x - min_x) / nb_steps       # define the distance between vertical bars\n",
    "for i in range(nb_steps + 1):                # (nb_steps + 1) several vertical bars\n",
    "    y_lim = y_lim_small                      # this is the default size of the vertical bar\n",
    "    if (i % big_bar_frequency == 0):         # these bars will be longer\n",
    "        y_lim = y_lim_big     \n",
    "    x = min_x + i * size_step                # define where we put this vertical bar\n",
    "    y_bar = np.array([-y_lim, y_lim])        # define the vertical bar - Y coords\n",
    "    x_bar = np.array([x, x])                 # define the vertical bar - X coords\n",
    "    ax.plot(x_bar, y_bar)                    # add the vertical bar to the plot\n",
    "    if (i == 0) or (i == nb_steps):          # add annotation for the first and the last bar\n",
    "        annotation_label = str(x) + \" cm\"          # this is what the label will look like\n",
    "        ax.annotate(annotation_label, (x, -y_lim)) # add the label to the right place\n",
    "\n",
    "x = np.array([x_arrow, x_arrow])             # define where the arrow line should go - X coordinates\n",
    "y = np.array([bottom_arrow, top_arrow])      # define where the arrow line should go - Y coordinates\n",
    "ax.plot(x, y, color=\"gray\" )                 # plot the arrow line\n",
    "ax.annotate(\"X\", (x_arrow, top_arrow))       # add X label to the right place\n",
    "\n",
    "verts = np.array([[-1.0, 2.0], [1.0, 2.0], [0.0, 0.0], [-1.0, 2.0]])   # define a big tip of the arrow\n",
    "verts *= y_lim_small * 0.4                             # make it smaller\n",
    "verts[:, 0] += x_arrow                                 # move along OX axis\n",
    "verts[:, 1] += bottom_arrow                            # move along OY axis\n",
    "path = mpath.Path(verts)                               # make it look like an arrow\n",
    "patch = mpatches.PathPatch(path, fc='gray', ec=\"gray\")\n",
    "ax.add_patch(patch)\n",
    "\n",
    "ax.relim()                                   # change the scale\n",
    "ax.autoscale_view()\n",
    "ax.axis(\"off\")                               # don't show the axis\n",
    "plt.show()"
   ]
  },
  {
   "source": [
    "#NAIVE IMPLEMENTATION\n",
    "\n",
    "plt.close()\n",
    "fig, ax = plt.subplots()             # create the blank figure\n",
    "\n",
    "ax.plot([24.0, 26.0], [0, 0])        # add a horizontal line to the plot\n",
    "\n",
    "# define where we put this vertical bar\n",
    "y_bar = np.array([-0.2, 0.2])        # scale the vertical bar\n",
    "x_bar = np.array([24.0, 24.0])       # define the bar\n",
    "ax.plot(x_bar, y_bar)                # add the vertical bar to the plot\n",
    "ax.annotate(\"24.0 cm\", (24.0, -0.2)) # add the label to the right place\n",
    "y_bar = np.array([-0.1, 0.1])        # scale the vertical bar\n",
    "x_bar = np.array([24.2, 24.2])       # define the bar\n",
    "ax.plot(x_bar, y_bar)                # add the vertical bar to the plot\n",
    "y_bar = np.array([-0.1, 0.1])        # scale the vertical bar\n",
    "x_bar = np.array([24.4, 24.4])       # define the bar\n",
    "ax.plot(x_bar, y_bar)                # add the vertical bar to the plot\n",
    "y_bar = np.array([-0.1, 0.1])        # scale the vertical bar\n",
    "x_bar = np.array([24.6, 24.6])       # define the bar\n",
    "ax.plot(x_bar, y_bar)                # add the vertical bar to the plot\n",
    "y_bar = np.array([-0.1, 0.1])        # scale the vertical bar\n",
    "x_bar = np.array([24.8, 24.8])       # define the bar\n",
    "ax.plot(x_bar, y_bar)                # add the vertical bar to the plot\n",
    "y_bar = np.array([-0.2, 0.2])        # scale the vertical bar\n",
    "x_bar = np.array([25.0, 25.0])       # define the bar\n",
    "ax.plot(x_bar, y_bar)                # add the vertical bar to the plot\n",
    "y_bar = np.array([-0.1, 0.1])        # scale the vertical bar\n",
    "x_bar = np.array([25.2, 25.2])       # define the bar\n",
    "ax.plot(x_bar, y_bar)                # add the vertical bar to the plot\n",
    "y_bar = np.array([-0.1, 0.1])        # scale the vertical bar\n",
    "x_bar = np.array([25.4, 25.4])       # define the bar\n",
    "ax.plot(x_bar, y_bar)                # add the vertical bar to the plot\n",
    "y_bar = np.array([-0.1, 0.1])        # scale the vertical bar\n",
    "x_bar = np.array([25.6, 25.6])       # define the bar\n",
    "ax.plot(x_bar, y_bar)                # add the vertical bar to the plot\n",
    "y_bar = np.array([-0.1, 0.1])        # scale the vertical bar\n",
    "x_bar = np.array([25.8, 25.8])       # define the bar\n",
    "ax.plot(x_bar, y_bar)                # add the vertical bar to the plot\n",
    "y_bar = np.array([-0.2, 0.2])        # scale the vertical bar\n",
    "x_bar = np.array([26.0, 26.0])       # define the bar\n",
    "ax.plot(x_bar, y_bar)                # add the vertical bar to the plot\n",
    "ax.annotate(\"26.0 cm\", (26.0, -0.2)) # add the label to the right place\n",
    "\n",
    "x = np.array([25.5, 25.5])             # define where the arrow line should go - X coordinates\n",
    "y = np.array([0.15, 0.35])      # define where the arrow line should go - Y coordinates\n",
    "ax.plot(x, y, color=\"gray\" )                 # plot the arrow line\n",
    "ax.annotate(\"X\", (25.5, 0.35))       # add X label to the right place\n",
    "\n",
    "verts = np.array([[25.46, 0.308], [25.54, 0.308], [25.5, 0.15], [25.46, 0.308]])   # define a big tip of the arrow\n",
    "path = mpath.Path(verts)                               # make it look like an arrow\n",
    "patch = mpatches.PathPatch(path, fc='gray', ec=\"gray\")\n",
    "ax.add_patch(patch)\n",
    "\n",
    "ax.relim()                                   # change the scale\n",
    "ax.autoscale_view()\n",
    "ax.axis(\"off\")                               # don't show the axis\n",
    "plt.show()"
   ],
   "cell_type": "code",
   "metadata": {},
   "execution_count": null,
   "outputs": []
  }
 ]
}