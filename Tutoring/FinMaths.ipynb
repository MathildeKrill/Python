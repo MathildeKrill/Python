{
 "metadata": {
  "language_info": {
   "codemirror_mode": {
    "name": "ipython",
    "version": 3
   },
   "file_extension": ".py",
   "mimetype": "text/x-python",
   "name": "python",
   "nbconvert_exporter": "python",
   "pygments_lexer": "ipython3",
   "version": "3.8.1-final"
  },
  "orig_nbformat": 2,
  "kernelspec": {
   "name": "python_defaultSpec_1600709246561",
   "display_name": "Python 3.8.1 64-bit ('3.8.1': pyenv)"
  }
 },
 "nbformat": 4,
 "nbformat_minor": 2,
 "cells": [
  {
   "cell_type": "code",
   "execution_count": null,
   "metadata": {},
   "outputs": [],
   "source": [
    "# S is the spot (today's) price\n",
    "# K is the strike price\n",
    "# T is the time to maturity\n",
    "# r is the risk-free interest rate\n",
    "# sigma is the volatility of the stock\n",
    "\n",
    "import scipy.stats as stats\n",
    "import numpy as np\n",
    "import matplotlib.pyplot as plt\n",
    "\n",
    "\n",
    "def black_scholes_call_price(S, K, T, r, sigma):\n",
    "    d1 = (np.log(S / K) + r * T) / (sigma * np.sqrt(T)) + (sigma * np.sqrt(T)) / 2\n",
    "    d2 = d1 - sigma * np.sqrt(T)\n",
    "    return S * stats.norm.cdf(d1) - K / np.exp(r * T) * stats.norm.cdf(d2)\n"
   ]
  },
  {
   "cell_type": "code",
   "execution_count": null,
   "metadata": {},
   "outputs": [],
   "source": [
    "def plot_cdf():\n",
    "    plt.close()\n",
    "    fig, ax = plt.subplots()                                 # create the figure\n",
    "    x_1 = np.linspace(-5, 5, 300)\n",
    "    y_1 = [stats.norm.cdf(x) for x in x_1]\n",
    "    ax.plot(x_1, y_1)\n",
    "\n",
    "    x_2 = np.linspace(-1, 1, 200) * np.sqrt((0.5 * np.pi))\n",
    "    y_2 = 0.5 + x_2 / np.sqrt((2 * np.pi))\n",
    "    ax.plot(x_2, y_2)\n",
    "    \n",
    "    legend = [\"CDF of standard normal distribution\", \"Its tangent in 0\"]\n",
    "    plt.legend(legend, loc='upper left')\n",
    "    ax.relim()                                   # change the scale of the axes\n",
    "    ax.autoscale_view()\n",
    "    plt.show()                                   # show!\n",
    "\n",
    "plot_cdf()"
   ]
  },
  {
   "cell_type": "code",
   "execution_count": null,
   "metadata": {
    "tags": []
   },
   "outputs": [],
   "source": [
    "def plot_BS_as_a_function_of_vol(S, T, r, K_range, sigmas):\n",
    "    \n",
    "    plt.close()\n",
    "    fig, ax = plt.subplots()                                 # create the figure\n",
    "\n",
    "    legend = []\n",
    "    cdf_pure = [stats.norm.cdf((sigma * np.sqrt(T)) / 2) for sigma in sigmas]\n",
    "    ax.plot(sigmas, cdf_pure, 'c:')\n",
    "    legend.append(\"cdf_pure\")\n",
    "    cdf_double_minus_1 = [2 * stats.norm.cdf((sigma * np.sqrt(T)) / 2) - 1 for sigma in sigmas]\n",
    "    ax.plot(sigmas, cdf_double_minus_1, 'g:')\n",
    "    legend.append(\"cdf_double_minus_1\")\n",
    "\n",
    "    for K in K_range:\n",
    "        prices_BS = [black_scholes_call_price(S = S, K = K, T = T, r = r, sigma = sigma) for sigma in sigmas]\n",
    "        ax.plot(sigmas, prices_BS)\n",
    "        legend.append(\"K = \" + str(K))\n",
    "    \n",
    "    plt.legend(legend, loc='upper left')\n",
    "    ax.relim()                                   # change the scale of the axes\n",
    "    ax.autoscale_view()\n",
    "    plt.show()                                   # show!\n",
    "    size = fig.get_size_inches() * fig.dpi\n",
    "    print(size)\n",
    "\n",
    "plot_BS_as_a_function_of_vol(S = 1, T = 1, r = 0.0, \n",
    "                             K_range = [x/10 for x in range(6, 17)], \n",
    "                             sigmas = np.linspace(.05, 2.95, 100))"
   ]
  },
  {
   "cell_type": "code",
   "execution_count": null,
   "metadata": {},
   "outputs": [],
   "source": []
  }
 ]
}