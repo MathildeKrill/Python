{
 "metadata": {
  "language_info": {
   "codemirror_mode": {
    "name": "ipython",
    "version": 3
   },
   "file_extension": ".py",
   "mimetype": "text/x-python",
   "name": "python",
   "nbconvert_exporter": "python",
   "pygments_lexer": "ipython3",
   "version": "3.8.1-final"
  },
  "orig_nbformat": 2,
  "kernelspec": {
   "name": "Python 3.8.1 64-bit ('3.8.1')",
   "display_name": "Python 3.8.1 64-bit ('3.8.1')",
   "metadata": {
    "interpreter": {
     "hash": "39d9957c0bdcc2df3d5b84add00b7d6c354fea32f7a76a6fcfdd0f906c9d2725"
    }
   }
  }
 },
 "nbformat": 4,
 "nbformat_minor": 2,
 "cells": [
  {
   "cell_type": "code",
   "execution_count": null,
   "metadata": {
    "tags": []
   },
   "outputs": [],
   "source": [
    "import numpy as np\n",
    "from yu_plot_axes import plt_envelope\n",
    "from yu_plot_basic_shapes import create_polygon, create_polygons\n",
    "import matplotlib.pyplot as plt\n",
    "\n",
    "FIGSIZE = (3, 3)\n",
    "DPI = 100\n",
    "\n",
    "plt.rcParams.update({\n",
    "    \"font.size\": 8\n",
    "})\n"
   ]
  },
  {
   "cell_type": "code",
   "execution_count": null,
   "metadata": {},
   "outputs": [],
   "source": [
    "\n",
    "    "
   ]
  },
  {
   "cell_type": "code",
   "execution_count": null,
   "metadata": {
    "tags": []
   },
   "outputs": [],
   "source": [
    "plt_envelope(func_to_call = create_polygon, all_x = [2, 1, 1, 2, 2], all_y = [2, 2, 1, 1, 2], figsize = FIGSIZE, dpi = 200, annotate = True, add_grid = True)"
   ]
  },
  {
   "cell_type": "code",
   "execution_count": null,
   "metadata": {},
   "outputs": [],
   "source": [
    "plt_envelope(func_to_call = create_polygon,  add_grid = True,\n",
    "             all_x = [1, 9, 1, 1], \n",
    "             all_y = [2, 2, 6, 2], style = '-', annotate = True, add_rectangle_around = True, \n",
    "                   fill_in_colour = (0.8, 0.8, 1.0), figsize = FIGSIZE, dpi = 200)"
   ]
  },
  {
   "cell_type": "code",
   "execution_count": null,
   "metadata": {},
   "outputs": [],
   "source": [
    "y_bottom = 2\n",
    "y_top = 6\n",
    "x_left = 1\n",
    "x_right = 9\n",
    "plt_envelope(func_to_call = create_polygons, \n",
    "             figsize = FIGSIZE, dpi = 200, add_grid = True,\n",
    "             params_polygons = [{'all_x' : [x_left, x_right, x_left, x_left], \n",
    "                                     'all_y' : [y_bottom, y_bottom, y_top, y_bottom], \n",
    "                                     'style' : '-', \n",
    "                                     'fill_in_colour' : (0.8, 0.8, 1.0)},\n",
    "                                     {'all_x' : [x_right, x_right, x_left, x_right], \n",
    "                                     'all_y' : [y_top, y_bottom, y_top, y_top], \n",
    "                                     'style' : '-', \n",
    "                                     'fill_in_colour' : (0.0, 1.0, 0.0)},\n",
    "             ], params_points = [{'x' : x_left, 'y' : y_bottom, 'annotiation' : 'A'},\n",
    "                                 {'x' : x_right, 'y' : y_bottom, 'annotiation' : 'B'},\n",
    "                                 {'x' : x_left, 'y' : y_top, 'annotiation' : 'C'},\n",
    "                                 {'x' : x_right, 'y' : y_top, 'annotiation' : 'D'},\n",
    "             ])"
   ]
  },
  {
   "cell_type": "code",
   "execution_count": null,
   "metadata": {},
   "outputs": [],
   "source": [
    "y_bottom = 2\n",
    "y_top = 10\n",
    "x_left = 1\n",
    "x_H = 5\n",
    "x_right = 12\n",
    "x_Hr = 9\n",
    "plt_envelope(func_to_call = create_polygons, \n",
    "             figsize = FIGSIZE, dpi = 200, add_grid = True,\n",
    "             params_polygons = [{'all_x' : [x_H, x_left, x_H, x_H], \n",
    "                                     'all_y' : [y_bottom, y_bottom, y_top, y_bottom], \n",
    "                                     'style' : '-', \n",
    "                                     'fill_in_colour' : (0.5, 0.5, 1.0)},\n",
    "                                     {'all_x' : [x_H, x_right, x_H, x_H], \n",
    "                                     'all_y' : [y_bottom, y_bottom, y_top, y_bottom], \n",
    "                                     'style' : '-', \n",
    "                                     'fill_in_colour' : (0.5, 0.5, 1.0)},\n",
    "             ], params_points = [{'x' : x_left, 'y' : y_bottom, 'annotiation' : 'A'},\n",
    "                                 {'x' : x_right, 'y' : y_bottom, 'annotiation' : 'B'},\n",
    "                                 {'x' : x_H, 'y' : y_top, 'annotiation' : 'C'},\n",
    "                                 {'x' : x_H, 'y' : y_bottom, 'annotiation' : 'H'},\n",
    "             ])\n",
    "\n",
    "plt_envelope(func_to_call = create_polygons, \n",
    "             figsize = FIGSIZE, dpi = 200, add_grid = True,\n",
    "             params_polygons = [{'all_x' : [x_H, x_left, x_H, x_H], \n",
    "                                     'all_y' : [y_bottom, y_bottom, y_top, y_bottom], \n",
    "                                     'style' : '-', \n",
    "                                     'fill_in_colour' : (0.5, 0.5, 1.0)},\n",
    "                                     {'all_x' : [x_H, x_right, x_H, x_H], \n",
    "                                     'all_y' : [y_bottom, y_bottom, y_top, y_bottom], \n",
    "                                     'style' : '-', \n",
    "                                     'fill_in_colour' : (1.0, 0.5, 0.5)},\n",
    "             ], params_points = [{'x' : x_left, 'y' : y_bottom, 'annotiation' : 'A'},\n",
    "                                 {'x' : x_right, 'y' : y_bottom, 'annotiation' : 'B'},\n",
    "                                 {'x' : x_H, 'y' : y_top, 'annotiation' : 'C'},\n",
    "                                 {'x' : x_H, 'y' : y_bottom, 'annotiation' : 'H'},\n",
    "             ])\n"
   ]
  },
  {
   "cell_type": "code",
   "execution_count": null,
   "metadata": {},
   "outputs": [],
   "source": [
    "plt_envelope(func_to_call = create_polygons, \n",
    "             figsize = FIGSIZE, dpi = 200, add_grid = True,\n",
    "             params_polygons = [\n",
    "                                     {'all_x' : [x_Hr, x_right, x_H, x_Hr], \n",
    "                                     'all_y' : [y_bottom, y_bottom, y_top, y_bottom], \n",
    "                                     'style' : '-', \n",
    "                                     'fill_in_colour' : (0.5, 0.5, 1.0)},\n",
    "             ], params_points = [{'x' : x_Hr, 'y' : y_bottom, 'annotiation' : 'A'},\n",
    "                                 {'x' : x_right, 'y' : y_bottom, 'annotiation' : 'B'},\n",
    "                                 {'x' : x_H, 'y' : y_top, 'annotiation' : 'C'},\n",
    "                                 {'x' : x_H, 'y' : y_bottom, 'annotiation' : 'H'},\n",
    "                                 {'x' : x_right, 'y' : y_top, 'annotiation' : 'G'},\n",
    "             ])\n",
    "\n",
    "plt_envelope(func_to_call = create_polygons, \n",
    "             figsize = FIGSIZE, dpi = 200, add_grid = True,\n",
    "             params_polygons = [{'all_x' : [x_H, x_Hr, x_H, x_H], \n",
    "                                     'all_y' : [y_bottom, y_bottom, y_top, y_bottom], \n",
    "                                     'style' : '-', \n",
    "                                     'fill_in_colour' : (0.6, 1.0, 0.6)},\n",
    "                                     {'all_x' : [x_Hr, x_right, x_H, x_Hr], \n",
    "                                     'all_y' : [y_bottom, y_bottom, y_top, y_bottom], \n",
    "                                     'style' : '-', \n",
    "                                     'fill_in_colour' : (0.5, 0.5, 1.0)},\n",
    "             ], params_points = [{'x' : x_Hr, 'y' : y_bottom, 'annotiation' : 'A'},\n",
    "                                 {'x' : x_right, 'y' : y_bottom, 'annotiation' : 'B'},\n",
    "                                 {'x' : x_H, 'y' : y_top, 'annotiation' : 'C'},\n",
    "                                 {'x' : x_H, 'y' : y_bottom, 'annotiation' : 'H'},\n",
    "                                 {'x' : x_right, 'y' : y_top, 'annotiation' : 'G'},\n",
    "             ])"
   ]
  },
  {
   "cell_type": "code",
   "execution_count": null,
   "metadata": {},
   "outputs": [],
   "source": [
    "plt_envelope(func_to_call = create_polygons, \n",
    "             figsize = FIGSIZE, dpi = 200, add_grid = True,\n",
    "             params_polygons = [\n",
    "                                    {'all_x' : [0, 0, 1, 1, 2, 2, 3, 3, 4, 4, 5, 5, 6, 6, 7, 7, 8, 8, 0], \n",
    "                                     'all_y' : [0, 1, 1, 2, 2, 3, 3, 4, 4, 5, 5, 6, 6, 7, 7, 8, 8, 0, 0], \n",
    "                                     'style' : '-', \n",
    "                                     'fill_in_colour' : (0.5, 0.5, 1.0)}\n",
    "             ])\n",
    "\n",
    "plt_envelope(func_to_call = create_polygons, \n",
    "             figsize = FIGSIZE, dpi = 200, add_grid = True,\n",
    "             params_polygons = [\n",
    "                                    {'all_x' : [0, 0, 1, 1, 2, 2, 3, 3, 4, 4, 5, 5, 6, 6, 7, 7, 8, 8, 0], \n",
    "                                     'all_y' : [0, 1, 1, 2, 2, 3, 3, 4, 4, 5, 5, 6, 6, 7, 7, 8, 8, 0, 0], \n",
    "                                     'style' : '-', \n",
    "                                     'fill_in_colour' : (0.5, 0.5, 1.0)},\n",
    "                                    {'all_x' : [0, 0, 1, 1, 2, 2, 3, 3, 4, 4, 5, 5, 6, 6, 7, 7, 8, 8, 0], \n",
    "                                     'all_y' : [9, 1, 1, 2, 2, 3, 3, 4, 4, 5, 5, 6, 6, 7, 7, 8, 8, 9, 9], \n",
    "                                     'style' : '-', \n",
    "                                     'fill_in_colour' : (0.5, 1.0, 0.5)},\n",
    "             ])\n"
   ]
  },
  {
   "cell_type": "code",
   "execution_count": null,
   "metadata": {},
   "outputs": [],
   "source": [
    "def create_polygon_with_right_angles(directions, \n",
    "                                     lengths_of_sides, \n",
    "                                     starting_point = [1, 1],\n",
    "                                     fill_in_colour = None,\n",
    "                                     figsize = (5, 5),\n",
    "                                     show_solutions = True): #(1, 1) is the starting point by default\n",
    "    \n",
    "    all_x_PWRA = np.array([starting_point[0]])   # start with the initial point\n",
    "    all_y_PWRA = np.array([starting_point[1]])\n",
    "\n",
    "    perimeter = 0.\n",
    "    double_area = 0.\n",
    "    \n",
    "    for i in range(len(directions)):\n",
    "        new_point_x = all_x_PWRA[-1]             # start with the previous point\n",
    "        new_point_y = all_y_PWRA[-1]             # \"-1\" means the last element of the array\n",
    "        if (directions[i]) in ['u', 'U']:        # if \"up\", add to y\n",
    "            new_point_y += lengths_of_sides[i]\n",
    "        if (directions[i]) in ['d', 'D']:        # if \"down\", subtract from y\n",
    "            new_point_y -= lengths_of_sides[i]\n",
    "        if (directions[i]) in ['r', 'R']:        # if \"left\", add from x\n",
    "            new_point_x += lengths_of_sides[i]\n",
    "        if (directions[i]) in ['l', 'L']:        # if \"right\", subtract from x\n",
    "            new_point_x -= lengths_of_sides[i]     \n",
    "\n",
    "        all_x_PWRA = np.append(all_x_PWRA, new_point_x) # add new point to the arrays\n",
    "        all_y_PWRA = np.append(all_y_PWRA, new_point_y) \n",
    "\n",
    "        double_area += all_x_PWRA[-2] * all_y_PWRA[-1] - all_y_PWRA[-2] * all_x_PWRA[-1]\n",
    "    \n",
    "        perimeter += lengths_of_sides[i]                # add the length of the new side\n",
    "\n",
    "    solution_object = { 'show_solutions' : show_solutions,\n",
    "                        'solutions' : [[\"Perimeter\", perimeter, \"\"], [\"Area\", abs(double_area * 0.5), \"\"]]}\n",
    "\n",
    "    title_addon = \"Directions:\" \n",
    "    for i in range(len(directions)):\n",
    "        if (i % 3) == 0 :\n",
    "            if i > 0: \n",
    "                title_addon += '; '\n",
    "            title_addon += '\\n'\n",
    "        else:\n",
    "            title_addon += '; '\n",
    "        title_addon += \"move \" + directions[i] + \" by \" + str(lengths_of_sides[i])\n",
    "\n",
    "                                                 # reuse the function we have created earlier\n",
    "    plt_envelope(func_to_call = create_polygon,  # create the basic plot\n",
    "                 all_x = all_x_PWRA, \n",
    "                 all_y = all_y_PWRA, \n",
    "                 solution_object = solution_object,\n",
    "                 title_addon = title_addon,\n",
    "                 figsize = figsize,\n",
    "                 dpi = 100,\n",
    "                 add_rectangle_around = True, \n",
    "                 annotate = True,\n",
    "                 add_grid = True, \n",
    "                 fill_in_colour = fill_in_colour)\n"
   ]
  },
  {
   "cell_type": "code",
   "execution_count": null,
   "metadata": {
    "tags": []
   },
   "outputs": [],
   "source": [
    "create_polygon_with_right_angles(directions = ['U', 'L', 'D', 'L', 'U', 'L', 'D', 'R'], lengths_of_sides = [5, 2, 1, 3, 1, 4, 5, 9])"
   ]
  },
  {
   "cell_type": "code",
   "execution_count": null,
   "metadata": {
    "tags": []
   },
   "outputs": [],
   "source": [
    "create_polygon_with_right_angles(directions = ['U', 'L', 'D', 'L', 'U', 'L', 'D', 'R', 'D', 'R'], lengths_of_sides = [5, 2, 1, 3, 1, 4, 4, 3, 1, 6])"
   ]
  },
  {
   "cell_type": "code",
   "execution_count": null,
   "metadata": {
    "tags": []
   },
   "outputs": [],
   "source": [
    "create_polygon_with_right_angles(directions = ['U', 'R', 'U', 'L', 'U', 'L', 'D', 'L', 'D', 'R', 'D', 'R'], \n",
    "                                lengths_of_sides = [ 2,   1,   1,   1,   1,   1,   1,   2,   1,   2,   2,  1], \n",
    "                                starting_point = [4, 1])"
   ]
  },
  {
   "cell_type": "code",
   "execution_count": null,
   "metadata": {
    "tags": []
   },
   "outputs": [],
   "source": [
    "create_polygon_with_right_angles(\n",
    "     directions = ['U', 'R', 'U', 'R', 'U', 'R', 'U', 'R', 'U', 'R', 'U', 'R', 'U', 'R', 'U', 'R', 'D', ' L'],                              \n",
    "     lengths_of_sides = [1,   1,   1,   1,   1,   1,   1,   1,   1,   1,   1,   1,   1,   1,   1,   1,   8,   8],\n",
    "     starting_point = [0, 0], fill_in_colour = 'red', figsize = (8, 8))"
   ]
  },
  {
   "cell_type": "code",
   "execution_count": null,
   "metadata": {},
   "outputs": [],
   "source": []
  }
 ]
}