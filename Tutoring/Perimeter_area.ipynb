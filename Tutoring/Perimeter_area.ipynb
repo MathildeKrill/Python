{
 "metadata": {
  "language_info": {
   "codemirror_mode": {
    "name": "ipython",
    "version": 3
   },
   "file_extension": ".py",
   "mimetype": "text/x-python",
   "name": "python",
   "nbconvert_exporter": "python",
   "pygments_lexer": "ipython3",
   "version": "3.8.1-final"
  },
  "orig_nbformat": 2,
  "kernelspec": {
   "name": "python_defaultSpec_1600702082937",
   "display_name": "Python 3.8.1 64-bit ('3.8.1': pyenv)"
  }
 },
 "nbformat": 4,
 "nbformat_minor": 2,
 "cells": [
  {
   "cell_type": "code",
   "execution_count": null,
   "metadata": {
    "tags": []
   },
   "outputs": [],
   "source": [
    "import numpy as np\n",
    "import matplotlib.pyplot as plt\n",
    "import matplotlib.path as mpath\n",
    "import matplotlib.patches as mpatches\n",
    "from tutorship_reusable import plt_envelope, plot_point"
   ]
  },
  {
   "cell_type": "code",
   "execution_count": null,
   "metadata": {},
   "outputs": [],
   "source": [
    "def create_polygon(all_x, all_y, ax, style = '-', annotate = False, add_rectangle_around = False, colour_to_fill_in = None):\n",
    "    \n",
    "    point_labels = [chr(i) for i in range (65, 91)] # ['A', 'B', 'C', ... 'Z']\n",
    "\n",
    "    if add_rectangle_around:\n",
    "        min_x = min(all_x)\n",
    "        max_x = max(all_x)\n",
    "        min_y = min(all_y)\n",
    "        max_y = max(all_y)\n",
    "        create_polygon(all_x = [min_x, max_x, max_x, min_x], \n",
    "                       all_y = [min_y, min_y, max_y, max_y],\n",
    "                       ax = ax, \n",
    "                       style = 'c:')\n",
    "    \n",
    "    for i in range(len(all_x)):                              # plot the sides of our polygon\n",
    "        if (i != (len(all_x) - 1)):                          # if i is not the last element, take two adjustent points\n",
    "            x_bar = np.array([all_x[i], all_x[i+1]])\n",
    "            y_bar = np.array([all_y[i], all_y[i+1]]) \n",
    "        else: \n",
    "            x_bar = np.array([all_x[-1], all_x[0]])          # \"-1\" means the last element of the array\n",
    "            y_bar = np.array([all_y[-1], all_y[0]]) \n",
    "        ax.plot(x_bar, y_bar, style)                         # plot\n",
    "        if annotate:                                         # annotate\n",
    "            plot_point(ax, all_x[i], all_y[i], do_projections = False, annotiation = point_labels[i])\n",
    "\n",
    "    if colour_to_fill_in is not None:\n",
    "        outline = [(all_x[i], all_y[i]) for i in range(len(all_x))]\n",
    "        outline_path = mpath.Path(outline)                 # create the outline\n",
    "        outline_filled_in = mpatches.PathPatch(outline_path, \n",
    "                                       fc = colour_to_fill_in, \n",
    "                                       ec = colour_to_fill_in)   # fill in the outline \n",
    "        ax.add_patch(outline_filled_in) \n",
    "\n",
    "    ax.set_aspect(\"equal\", adjustable=\"datalim\")  \n",
    "\n"
   ]
  },
  {
   "cell_type": "code",
   "execution_count": null,
   "metadata": {},
   "outputs": [],
   "source": [
    "plt_envelope(func_to_call = create_polygon, all_x = [0, 1, 1, 0], all_y = [0, 0, 1, 1], annotate = True)"
   ]
  },
  {
   "cell_type": "code",
   "execution_count": null,
   "metadata": {},
   "outputs": [],
   "source": [
    "def create_polygon_with_right_angles(directions, lengths_of_sides, starting_point = [1, 1]): #(1, 1) is the starting point by default\n",
    "    \n",
    "    all_x_PWRA = [starting_point[0]]             # start with the initial point\n",
    "    all_y_PWRA = [starting_point[1]]\n",
    "\n",
    "    perimeter = 0\n",
    "    \n",
    "    for i in range(len(directions)):\n",
    "        new_point_x = all_x_PWRA[-1]             # start with the previous point\n",
    "        new_point_y = all_y_PWRA[-1]             # \"-1\" means the last element of the array\n",
    "        if (directions[i]) in ['u', 'U']:        # if \"up\", add to y\n",
    "            new_point_y += lengths_of_sides[i]\n",
    "        if (directions[i]) in ['d', 'D']:        # if \"down\", subtract from y\n",
    "            new_point_y -= lengths_of_sides[i]\n",
    "        if (directions[i]) in ['l', 'L']:        # if \"left\", add from x\n",
    "            new_point_x += lengths_of_sides[i]\n",
    "        if (directions[i]) in ['r', 'R']:        # if \"right\", subtract from x\n",
    "            new_point_x -= lengths_of_sides[i]\n",
    "        all_x_PWRA.append(new_point_x)           # add new point to the arrays\n",
    "        all_y_PWRA.append(new_point_y)     \n",
    "        perimeter += lengths_of_sides[i]         # add the length of the new side\n",
    "    \n",
    "    # add the last side of the perimeter\n",
    "    perimeter += abs(all_x_PWRA[-1] - all_x_PWRA[0]) + abs(all_y_PWRA[-1] - all_y_PWRA[0]) \n",
    "    print(\"Perimeter =\", perimeter) \n",
    "\n",
    "                                                 # reuse the function we have created earlier\n",
    "    plt_envelope(func_to_call = create_polygon,  # create the basic plot\n",
    "                 all_x = all_x_PWRA, \n",
    "                 all_y = all_y_PWRA, \n",
    "                 add_rectangle_around = True, \n",
    "                 annotate = True) \n",
    "    x = plt_envelope(func_to_call = create_polygon, # create the filled in plot\n",
    "                     add_grid = False,\n",
    "                 all_x = all_x_PWRA, \n",
    "                 all_y = all_y_PWRA, \n",
    "                 style = 'magenta',\n",
    "                 colour_to_fill_in = 'magenta') \n",
    "    print(x)\n"
   ]
  },
  {
   "cell_type": "code",
   "execution_count": null,
   "metadata": {
    "tags": []
   },
   "outputs": [],
   "source": [
    "create_polygon_with_right_angles(directions = ['U', 'L', 'D', 'L', 'U', 'L', 'D'], lengths_of_sides = [5, 2, 1, 3, 1, 4, 5])"
   ]
  },
  {
   "cell_type": "code",
   "execution_count": null,
   "metadata": {
    "tags": []
   },
   "outputs": [],
   "source": [
    "create_polygon_with_right_angles(directions = ['U', 'L', 'D', 'L', 'U', 'L', 'D', 'R', 'D'], lengths_of_sides = [5, 2, 1, 3, 1, 4, 4, 3, 1])"
   ]
  },
  {
   "cell_type": "code",
   "execution_count": null,
   "metadata": {
    "tags": []
   },
   "outputs": [],
   "source": [
    "create_polygon_with_right_angles(directions = ['U', 'R', 'U', 'L', 'U', 'L', 'D', 'L', 'D', 'R', 'D'], \n",
    "                           lengths_of_sides = [ 2,   1,   1,   1,   1,   1,   1,   2,   1,   2,   2])"
   ]
  },
  {
   "cell_type": "code",
   "execution_count": null,
   "metadata": {
    "tags": []
   },
   "outputs": [],
   "source": [
    "create_polygon_with_right_angles(directions = ['U', 'L', 'U', 'L', 'U', 'L', 'U', 'L', 'U', 'L', 'U', 'L', 'U', 'L', 'U', 'L', 'D'],                              lengths_of_sides = [1,   1,   1,   1,   1,   1,   1,   1,   1,   1,   1,   1,   1,   1,   1,   1,   8],\n",
    "                           starting_point = [0, 0])"
   ]
  }
 ]
}