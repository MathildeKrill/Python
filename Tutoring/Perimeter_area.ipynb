{
 "metadata": {
  "language_info": {
   "codemirror_mode": {
    "name": "ipython",
    "version": 3
   },
   "file_extension": ".py",
   "mimetype": "text/x-python",
   "name": "python",
   "nbconvert_exporter": "python",
   "pygments_lexer": "ipython3",
   "version": "3.8.1-final"
  },
  "orig_nbformat": 2,
  "kernelspec": {
   "name": "python_defaultSpec_1600702082937",
   "display_name": "Python 3.8.1 64-bit ('3.8.1': pyenv)"
  }
 },
 "nbformat": 4,
 "nbformat_minor": 2,
 "cells": [
  {
   "cell_type": "code",
   "execution_count": null,
   "metadata": {
    "tags": []
   },
   "outputs": [],
   "source": [
    "import numpy as np\n",
    "import matplotlib.pyplot as plt\n",
    "import matplotlib.path as mpath\n",
    "import matplotlib.patches as mpatches\n",
    "from tutorship_reusable import plt_envelope, plot_point\n",
    "from PIL import Image"
   ]
  },
  {
   "cell_type": "code",
   "execution_count": null,
   "metadata": {},
   "outputs": [],
   "source": [
    "def create_polygon(all_x, all_y, ax, centre = None, style = '-', annotate = False, add_rectangle_around = False):\n",
    "    \n",
    "    point_labels = [chr(i) for i in range (65, 91)]          # ['A', 'B', 'C', ... 'Z']\n",
    "\n",
    "    if add_rectangle_around:\n",
    "        min_x = min(all_x)\n",
    "        max_x = max(all_x)\n",
    "        min_y = min(all_y)\n",
    "        max_y = max(all_y)\n",
    "        create_polygon(all_x = [min_x, max_x, max_x, min_x], # recursive call\n",
    "                       all_y = [min_y, min_y, max_y, max_y],\n",
    "                       ax = ax, \n",
    "                       style = 'c:')\n",
    "\n",
    "    if centre is not None:\n",
    "         x_bar_for_area = np.array([centre[0], None])\n",
    "         y_bar_for_area = np.array([centre[1], None])\n",
    "\n",
    "    for i in range(len(all_x) - 1):                          # plot the sides of our polygon\n",
    "        x_bar = np.array([all_x[i], all_x[i+1]])\n",
    "        y_bar = np.array([all_y[i], all_y[i+1]]) \n",
    "        ax.plot(x_bar, y_bar, style)                         # plot\n",
    "        if annotate:                                         # annotate\n",
    "            plot_point(ax, all_x[i], all_y[i], do_projections = False, annotiation = point_labels[i])\n",
    "        if centre is not None:\n",
    "            x_bar_for_area[1] = all_x[i]\n",
    "            y_bar_for_area[1] = all_y[i]\n",
    "            ax.plot(x_bar_for_area, y_bar_for_area, 'r:') \n",
    "\n",
    "    ax.set_aspect(\"equal\", adjustable=\"datalim\")  \n"
   ]
  },
  {
   "cell_type": "code",
   "execution_count": null,
   "metadata": {},
   "outputs": [],
   "source": [
    "plt_envelope(func_to_call = create_polygon, all_x = [0, 1, 1, 0, 0], all_y = [0, 0, 1, 1, 0], annotate = True, add_grid = True)"
   ]
  },
  {
   "cell_type": "code",
   "execution_count": null,
   "metadata": {},
   "outputs": [],
   "source": [
    "def create_polygon_with_right_angles(directions, \n",
    "                                     lengths_of_sides, \n",
    "                                     starting_point = [1, 1]): #(1, 1) is the starting point by default\n",
    "    \n",
    "    all_x_PWRA = np.array([starting_point[0]])   # start with the initial point\n",
    "    all_y_PWRA = np.array([starting_point[1]])\n",
    "\n",
    "    perimeter = 0.\n",
    "    double_area = 0.\n",
    "    \n",
    "    for i in range(len(directions)):\n",
    "        new_point_x = all_x_PWRA[-1]             # start with the previous point\n",
    "        new_point_y = all_y_PWRA[-1]             # \"-1\" means the last element of the array\n",
    "        if (directions[i]) in ['u', 'U']:        # if \"up\", add to y\n",
    "            new_point_y += lengths_of_sides[i]\n",
    "        if (directions[i]) in ['d', 'D']:        # if \"down\", subtract from y\n",
    "            new_point_y -= lengths_of_sides[i]\n",
    "        if (directions[i]) in ['l', 'L']:        # if \"left\", add from x\n",
    "            new_point_x += lengths_of_sides[i]\n",
    "        if (directions[i]) in ['r', 'R']:        # if \"right\", subtract from x\n",
    "            new_point_x -= lengths_of_sides[i]     \n",
    "\n",
    "        all_x_PWRA = np.append(all_x_PWRA, new_point_x) # add new point to the arrays\n",
    "        all_y_PWRA = np.append(all_y_PWRA, new_point_y) \n",
    "\n",
    "        double_area += all_x_PWRA[-2] * all_y_PWRA[-1] - all_y_PWRA[-2] * all_x_PWRA[-1]\n",
    "    \n",
    "        perimeter += lengths_of_sides[i]                # add the length of the new side\n",
    "\n",
    "    solution_object = { 'show_solutions' : True,\n",
    "                        'solutions' : [[\"Perimeter\", perimeter, \"\"], [\"Area\", abs(double_area * 0.5), \"\"]]}\n",
    "\n",
    "                                                 # reuse the function we have created earlier\n",
    "    plt_envelope(func_to_call = create_polygon,  # create the basic plot\n",
    "                 all_x = all_x_PWRA, \n",
    "                 all_y = all_y_PWRA, \n",
    "                 solution_object = solution_object,\n",
    "                 add_rectangle_around = True, \n",
    "                 annotate = True,\n",
    "                 add_grid = True)\n"
   ]
  },
  {
   "cell_type": "code",
   "execution_count": null,
   "metadata": {
    "tags": []
   },
   "outputs": [],
   "source": [
    "create_polygon_with_right_angles(directions = ['U', 'L', 'D', 'L', 'U', 'L', 'D', 'R'], lengths_of_sides = [5, 2, 1, 3, 1, 4, 5, 9])"
   ]
  },
  {
   "cell_type": "code",
   "execution_count": null,
   "metadata": {
    "tags": []
   },
   "outputs": [],
   "source": [
    "create_polygon_with_right_angles(directions = ['U', 'L', 'D', 'L', 'U', 'L', 'D', 'R', 'D', 'R'], lengths_of_sides = [5, 2, 1, 3, 1, 4, 4, 3, 1, 6])"
   ]
  },
  {
   "cell_type": "code",
   "execution_count": null,
   "metadata": {
    "tags": []
   },
   "outputs": [],
   "source": [
    "create_polygon_with_right_angles(directions = ['U', 'R', 'U', 'L', 'U', 'L', 'D', 'L', 'D', 'R', 'D', 'R'], \n",
    "                                lengths_of_sides = [ 2,   1,   1,   1,   1,   1,   1,   2,   1,   2,   2,  1])"
   ]
  },
  {
   "cell_type": "code",
   "execution_count": null,
   "metadata": {
    "tags": []
   },
   "outputs": [],
   "source": [
    "create_polygon_with_right_angles(\n",
    "     directions = ['U', 'L', 'U', 'L', 'U', 'L', 'U', 'L', 'U', 'L', 'U', 'L', 'U', 'L', 'U', 'L', 'D', ' R'],                              lengths_of_sides = [1,   1,   1,   1,   1,   1,   1,   1,   1,   1,   1,   1,   1,   1,   1,   1,   8,   8],\n",
    "     starting_point = [0, 0])"
   ]
  }
 ]
}