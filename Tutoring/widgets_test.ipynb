{
 "metadata": {
  "language_info": {
   "codemirror_mode": {
    "name": "ipython",
    "version": 3
   },
   "file_extension": ".py",
   "mimetype": "text/x-python",
   "name": "python",
   "nbconvert_exporter": "python",
   "pygments_lexer": "ipython3",
   "version": "3.8.1-final"
  },
  "orig_nbformat": 2,
  "kernelspec": {
   "name": "Python 3.8.1 64-bit ('3.8.1': pyenv)",
   "display_name": "Python 3.8.1 64-bit ('3.8.1': pyenv)",
   "metadata": {
    "interpreter": {
     "hash": "39d9957c0bdcc2df3d5b84add00b7d6c354fea32f7a76a6fcfdd0f906c9d2725"
    }
   }
  }
 },
 "nbformat": 4,
 "nbformat_minor": 2,
 "cells": [
  {
   "cell_type": "code",
   "execution_count": null,
   "metadata": {},
   "outputs": [],
   "source": [
    "%matplotlib widget\n",
    "import matplotlib.pyplot as plt\n",
    "from ipywidgets import interact\n",
    "import numpy as np\n",
    "x = np.linspace(0, 6.28, 100)\n",
    "fig, ax = plt.subplots()\n",
    "@interact(alpha=(0., 10.))\n",
    "def someplot(alpha=1.):\n",
    "    ax.clear()\n",
    "    ax.plot(x, np.sin(alpha * x))"
   ]
  },
  {
   "cell_type": "code",
   "execution_count": null,
   "metadata": {},
   "outputs": [],
   "source": [
    "%matplotlib widget\n",
    "from numpy import pi, sin\n",
    "import numpy as np\n",
    "import matplotlib.pyplot as plt\n",
    "from matplotlib.widgets import Slider, Button, RadioButtons\n",
    "\n",
    "def signal(amp, freq):\n",
    "    return amp * sin(2 * pi * freq * t)\n",
    "\n",
    "axis_color = 'lightgoldenrodyellow'\n",
    "\n",
    "fig = plt.figure()\n",
    "ax = fig.add_subplot(111)\n",
    "\n",
    "# Adjust the subplots region to leave some space for the sliders and buttons\n",
    "fig.subplots_adjust(left=0.25, bottom=0.25)\n",
    "\n",
    "t = np.arange(0.0, 1.0, 0.001)\n",
    "amp_0 = 5\n",
    "freq_0 = 3\n",
    "\n",
    "# Draw the initial plot\n",
    "# The 'line' variable is used for modifying the line later\n",
    "[line] = ax.plot(t, signal(amp_0, freq_0), linewidth=2, color='red')\n",
    "ax.set_xlim([0, 1])\n",
    "ax.set_ylim([-10, 10])\n",
    "\n",
    "# Add two sliders for tweaking the parameters\n",
    "\n",
    "# Define an axes area and draw a slider in it\n",
    "amp_slider_ax  = fig.add_axes([0.25, 0.15, 0.65, 0.03], facecolor=axis_color)\n",
    "amp_slider = Slider(amp_slider_ax, 'Amp', 0.1, 10.0, valinit=amp_0)\n",
    "\n",
    "# Draw another slider\n",
    "freq_slider_ax = fig.add_axes([0.25, 0.1, 0.65, 0.03], facecolor=axis_color)\n",
    "freq_slider = Slider(freq_slider_ax, 'Freq', 0.1, 30.0, valinit=freq_0)\n",
    "\n",
    "# Define an action for modifying the line when any slider's value changes\n",
    "def sliders_on_changed(val):\n",
    "    line.set_ydata(signal(amp_slider.val, freq_slider.val))\n",
    "    fig.canvas.draw_idle()\n",
    "amp_slider.on_changed(sliders_on_changed)\n",
    "freq_slider.on_changed(sliders_on_changed)\n",
    "\n",
    "# Add a button for resetting the parameters\n",
    "reset_button_ax = fig.add_axes([0.8, 0.025, 0.1, 0.04])\n",
    "reset_button = Button(reset_button_ax, 'Reset', color=axis_color, hovercolor='0.975')\n",
    "def reset_button_on_clicked(mouse_event):\n",
    "    freq_slider.reset()\n",
    "    amp_slider.reset()\n",
    "reset_button.on_clicked(reset_button_on_clicked)\n",
    "\n",
    "# Add a set of radio buttons for changing color\n",
    "color_radios_ax = fig.add_axes([0.025, 0.5, 0.15, 0.15], facecolor=axis_color)\n",
    "color_radios = RadioButtons(color_radios_ax, ('red', 'blue', 'green'), active=0)\n",
    "def color_radios_on_clicked(label):\n",
    "    line.set_color(label)\n",
    "    fig.canvas.draw_idle()\n",
    "color_radios.on_clicked(color_radios_on_clicked)\n",
    "\n",
    "plt.show()"
   ]
  },
  {
   "cell_type": "code",
   "execution_count": null,
   "metadata": {},
   "outputs": [],
   "source": []
  }
 ]
}